{
 "cells": [
  {
   "cell_type": "markdown",
   "metadata": {},
   "source": [
    "*Monday, 16 April 2018*\n",
    "\n",
    "I have learned that you can run Ocatave scripts using GPU by using `nvblas` library. The syntax would look like something\n",
    "below:\n",
    "`NVBLAS_CONFIG_FILE=nvblas.conf LD_PRELOAD=libnvblas.so octave ./{file name}`\n",
    "\n",
    "This however, only forwards matrix multiplication to CPU and doesn't take the whole operation to GPU, which makes sense."
   ]
  },
  {
   "cell_type": "markdown",
   "metadata": {},
   "source": [
    "*Future Plans*\n",
    "\n",
    "I probably will have to write the whole matrix multiplication in C. The problem is that the kernel size is too large and\n",
    "doesn't fit into GPU, so I either have to use sparse matrix or break the large matrix and feed it to the GPU in small\n",
    "portions"
   ]
  },
  {
   "cell_type": "code",
   "execution_count": null,
   "metadata": {
    "collapsed": true
   },
   "outputs": [],
   "source": []
  }
 ],
 "metadata": {
  "kernelspec": {
   "display_name": "Python 3",
   "language": "python",
   "name": "python3"
  },
  "language_info": {
   "codemirror_mode": {
    "name": "ipython",
    "version": 3
   },
   "file_extension": ".py",
   "mimetype": "text/x-python",
   "name": "python",
   "nbconvert_exporter": "python",
   "pygments_lexer": "ipython3",
   "version": "3.6.3"
  }
 },
 "nbformat": 4,
 "nbformat_minor": 2
}
