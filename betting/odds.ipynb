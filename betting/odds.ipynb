{
 "cells": [
  {
   "cell_type": "code",
   "execution_count": 33,
   "metadata": {},
   "outputs": [
    {
     "name": "stdout",
     "output_type": "stream",
     "text": [
      "The autoreload extension is already loaded. To reload it, use:\n",
      "  %reload_ext autoreload\n",
      "Populating the interactive namespace from numpy and matplotlib\n"
     ]
    },
    {
     "name": "stderr",
     "output_type": "stream",
     "text": [
      "/home/bzr0014/anaconda3/envs/tensorGpu/lib/python3.6/site-packages/IPython/core/magics/pylab.py:160: UserWarning: pylab import has clobbered these variables: ['mean', 'sum']\n",
      "`%matplotlib` prevents importing * from pylab and numpy\n",
      "  \"\\n`%matplotlib` prevents importing * from pylab and numpy\"\n"
     ]
    }
   ],
   "source": [
    "import numpy as np\n",
    "import os\n",
    "import tensorflow as tf\n",
    "%load_ext autoreload\n",
    "%autoreload 2\n",
    "%pylab inline"
   ]
  },
  {
   "cell_type": "code",
   "execution_count": 34,
   "metadata": {},
   "outputs": [
    {
     "name": "stdout",
     "output_type": "stream",
     "text": [
      "[0.         0.12868949 0.12868949 0.17355372 0.34120425 0.37072019\n",
      " 0.37072019 0.39197166 0.40613932 0.4214876  0.44391972 0.56788666\n",
      " 0.70247934 0.71428571 0.71428571 0.71428571 0.71428571 0.73435655\n",
      " 0.74025974 0.74025974 0.74025974 0.74025974 0.7579693  0.79693034\n",
      " 0.81700118 0.81700118 0.81700118 0.81700118 0.92680047 0.94805195\n",
      " 0.96458087 0.96458087 1.        ]\n",
      "[10.9  0.   3.8 14.2  2.5  0.   1.8  1.2  1.3  1.9 10.5 11.4  1.   0.\n",
      "  0.   0.   1.7  0.5  0.   0.   0.   1.5  3.3  1.7  0.   0.   0.   9.3\n",
      "  1.8  1.4  0.   3. ]\n"
     ]
    }
   ],
   "source": [
    "filename = 'odds.csv'\n",
    "oddsFile = open(filename, 'r')\n",
    "oddsFile.readline()\n",
    "indexDict = {}\n",
    "countryDict = {}\n",
    "odds = []\n",
    "probs = []\n",
    "accumOdds = []\n",
    "sum = 0\n",
    "for line in oddsFile:\n",
    "    index, country, odd, prob = line.split(',')\n",
    "    indexDict[int(index)-1] = country\n",
    "    countryDict[country] = int(index)-1\n",
    "    odds.append(float(odd))\n",
    "    probs.append(float(prob))\n",
    "    accumOdds.append(sum)\n",
    "    sum += float(prob)\n",
    "accumOdds.append(sum)\n",
    "odds = np.array(odds)\n",
    "probs = np.array(probs)\n",
    "accumOdds = np.array(accumOdds) / np.max(accumOdds)\n",
    "#probs = 1 / odds\n",
    "#probs = probs / np.sum(probs)\n",
    "#for i in range(1, 33):\n",
    "#    accumOdds[i] = accumOdds[i-1] + probs[i-1]\n",
    "print(accumOdds)\n",
    "print(probs)"
   ]
  },
  {
   "cell_type": "code",
   "execution_count": 35,
   "metadata": {},
   "outputs": [],
   "source": [
    "def rel_error(x, y):\n",
    "    return np.max(np.abs(x - y) / (np.maximum(1e-8, np.abs(x) + np.abs(y))))\n",
    "\n",
    "def create_scenario(probs, N):\n",
    "    K = len(probs)-1\n",
    "    probs = (probs * N).astype('uint32')\n",
    "    scenarios = np.zeros((N, K))\n",
    "    count = 0\n",
    "    for probIndex in range(1, len(probs)):\n",
    "        while count < N and count < probs[probIndex]:\n",
    "            scenarios[count, probIndex-1] = 1\n",
    "            count += 1\n",
    "    return scenarios"
   ]
  },
  {
   "cell_type": "code",
   "execution_count": 59,
   "metadata": {},
   "outputs": [],
   "source": [
    "tf.reset_default_graph()\n",
    "stdSize = .5\n",
    "k = len(probs)\n",
    "init = tf.constant(np.zeros((1, k), dtype='float32'))\n",
    "odds_tf = tf.placeholder(tf.float32, [1, k])\n",
    "#odds_tf = tf.constant(odds.reshape(1, k).astype('float32'))\n",
    "scenarios_tf = tf.placeholder(tf.float32, [None, k])\n",
    "#scenarios_tf = tf.constant(scenarios.astype('float32'))\n",
    "def myModel(odds, scenarios, stdSize):\n",
    "    bets = tf.get_variable('bets', [1, k])+2\n",
    "    h0 = tf.nn.relu(bets)\n",
    "    #h0 = tf.abs(bets)\n",
    "    h1 = tf.divide(h0, tf.reduce_sum(h0)+1e-9)\n",
    "    N = tf.shape(scenarios)[0]\n",
    "    ones = tf.ones([N, 1])\n",
    "    bets_reshaped = tf.matmul(ones, h1)\n",
    "    odds_reshaped = tf.matmul(ones, odds)\n",
    "    allResults = tf.subtract(tf.multiply(tf.multiply(bets_reshaped, odds_reshaped), scenarios), bets_reshaped)\n",
    "    wins = tf.reduce_sum(allResults, axis=1)\n",
    "    return wins, h1\n",
    "win_tf, bets_tf = myModel(odds_tf, scenarios_tf, stdSize)\n",
    "#mean, var = tf.nn.moments(win_tf, axes=[0])\n",
    "#loss = -mean + 0 * tf.sqrt(var)\n",
    "mean = tf.reduce_mean(win_tf)\n",
    "loss = -mean + stdSize * tf.sqrt(tf.reduce_mean(tf.pow(win_tf - mean, 2)))"
   ]
  },
  {
   "cell_type": "code",
   "execution_count": 60,
   "metadata": {},
   "outputs": [],
   "source": [
    "optimizer = tf.train.AdamOptimizer(1e-2)\n",
    "#optimizer = tf.train.RMSPropOptimizer(1e-4)\n",
    "train_step = optimizer.minimize(loss)\n",
    "#train_step = tf.train.GradientDescentOptimizer(1e-3).minimize(loss)"
   ]
  },
  {
   "cell_type": "code",
   "execution_count": 61,
   "metadata": {},
   "outputs": [
    {
     "name": "stdout",
     "output_type": "stream",
     "text": [
      "[[0.02504113 0.03296627 0.03679257 0.03220965 0.03238441 0.03279231\n",
      "  0.03202727 0.02866492 0.03261162 0.02535311 0.03072651 0.03305328\n",
      "  0.03372848 0.03281198 0.02551173 0.02440586 0.03324769 0.02757432\n",
      "  0.03630212 0.03334066 0.03689581 0.02456594 0.0294775  0.03269244\n",
      "  0.03461358 0.02976711 0.03067952 0.02694684 0.0358285  0.03425959\n",
      "  0.02782012 0.03490716]]\n",
      "(1000,)\n",
      "0.7201921327708896\n",
      "1.3286205587049318e-08\n",
      "Average wins: -0.9890734\n"
     ]
    }
   ],
   "source": [
    "N = 1000\n",
    "scenarios = create_scenario(accumOdds, N)\n",
    "feed_dict = {odds_tf:odds.reshape(1, k), scenarios_tf:scenarios}\n",
    "with tf.Session() as sess:\n",
    "    sess.run(tf.global_variables_initializer())\n",
    "    myLoss, bets,_ = sess.run([loss, bets_tf, train_step], feed_dict=feed_dict)\n",
    "    #myLoss, bets,_ = sess.run([loss, bets_tf, train_step])\n",
    "print(bets)\n",
    "betsReshaped = np.ones((N, 1)).dot(bets)\n",
    "oddsReshaped = np.ones((N, 1)).dot(odds.reshape(1, -1))\n",
    "allResults = betsReshaped * oddsReshaped * scenarios - betsReshaped\n",
    "wins = np.sum(allResults, axis=1)\n",
    "print(wins.shape)\n",
    "print(rel_error(np.mean(wins), -myLoss))\n",
    "print(rel_error(np.mean(wins)-stdSize*np.std(wins), -myLoss))\n",
    "print(\"Average wins:\", -myLoss)"
   ]
  },
  {
   "cell_type": "code",
   "execution_count": null,
   "metadata": {},
   "outputs": [],
   "source": [
    "N = 1000\n",
    "scenarios = create_scenario(accumOdds, N)\n",
    "feed_dict = {odds_tf:odds.reshape(1, k), scenarios_tf:scenarios}\n",
    "num_epochs = 3000\n",
    "with tf.Session() as sess:\n",
    "    sess.run(tf.global_variables_initializer())\n",
    "    for i in range(num_epochs):\n",
    "        myLoss, bets, _ = sess.run([loss, bets_tf, train_step], feed_dict={odds_tf:odds.reshape(1, k), scenarios_tf:scenarios})\n",
    "        #myLoss, bets, _ = sess.run([loss, bets_tf, train_step])\n",
    "        if (i % 1000 == 0):\n",
    "            print(-myLoss)        #bets, myLoss,_ = sess.run([bets_tf, loss, train_step])\n",
    "print(bets)\n",
    "betsReshaped = np.ones((N, 1)).dot(bets)\n",
    "oddsReshaped = np.ones((N, 1)).dot(odds.reshape(1, -1))\n",
    "allResults = betsReshaped * oddsReshaped * scenarios - betsReshaped\n",
    "wins = np.sum(allResults, axis=1)\n",
    "print(wins.shape)\n",
    "print(rel_error(np.mean(wins), -myLoss))\n",
    "print(rel_error(np.mean(wins)-stdSize*np.std(wins), -myLoss))\n",
    "print(\"Average wins:\", -myLoss)"
   ]
  },
  {
   "cell_type": "code",
   "execution_count": 57,
   "metadata": {},
   "outputs": [
    {
     "name": "stdout",
     "output_type": "stream",
     "text": [
      "     argentina: 0.00\n",
      "     australia: 0.00\n",
      "       belgium: 0.00\n",
      "        brazil: 0.00\n",
      "      colombia: 0.00\n",
      "    costa rica: 0.00\n",
      "       croatia: 0.00\n",
      "       denmark: 0.00\n",
      "         egypt: 19.24\n",
      "       england: 0.00\n",
      "        france: 0.00\n",
      "       germany: 0.00\n",
      "       iceland: 16.74\n",
      "          iran: 0.00\n",
      "         japan: 0.00\n",
      "         korea: 0.00\n",
      "        mexico: 19.61\n",
      "       morocco: 9.47\n",
      "       nigeria: 0.00\n",
      "        panama: 0.00\n",
      "          peru: 0.00\n",
      "        poland: 0.00\n",
      "      portugal: 0.00\n",
      "        russia: 0.00\n",
      "  saudi arabia: 0.00\n",
      "       senegal: 0.00\n",
      "        serbia: 0.00\n",
      "         spain: 0.00\n",
      "        sweden: 34.94\n",
      "   switzerland: 0.00\n",
      "       tunisia: 0.00\n",
      "       uruguay: 0.00\n"
     ]
    }
   ],
   "source": [
    "for i in range(len(bets[0])):\n",
    "    print(\"%14s: %4.2f\"%(indexDict[i], bets[0, i]*100))"
   ]
  },
  {
   "cell_type": "code",
   "execution_count": 58,
   "metadata": {},
   "outputs": [
    {
     "name": "stdout",
     "output_type": "stream",
     "text": [
      "32\n",
      "(1000,)\n",
      "relative error 1 ->  0.43085978993938223\n",
      "relative error 2 ->  7.899037545890518e-08\n",
      "Average wins: 1.6640122950077056\n",
      "std wins: 10.021330085816498\n",
      "Average wins min 0.1 standard deviation: 0.6618792864260559\n"
     ]
    }
   ],
   "source": [
    "bets_new = bets * 1\n",
    "index1 = countryDict['australia']\n",
    "index2 = countryDict['argentina']\n",
    "#bets_new[0, index1] -= .1\n",
    "#bets_new[0, index2] += .1\n",
    "print(index)\n",
    "#bets_new[0, index] = 100\n",
    "betsReshaped = np.ones((N, 1)).dot(bets_new)\n",
    "oddsReshaped = np.ones((N, 1)).dot(odds.reshape(1, -1))\n",
    "allResults = betsReshaped * oddsReshaped * scenarios - betsReshaped\n",
    "wins = np.sum(allResults, axis=1)\n",
    "print(wins.shape)\n",
    "print(\"relative error 1 -> \", rel_error(np.mean(wins), -myLoss))\n",
    "print(\"relative error 2 -> \", rel_error(np.mean(wins)-stdSize*np.std(wins), -myLoss))\n",
    "print(\"Average wins:\", wins.mean())\n",
    "print(\"std wins:\", wins.std())\n",
    "print(\"Average wins min %2.1f standard deviation:\"%stdSize, np.mean(wins)-stdSize*np.std(wins))"
   ]
  },
  {
   "cell_type": "code",
   "execution_count": null,
   "metadata": {},
   "outputs": [],
   "source": []
  }
 ],
 "metadata": {
  "kernelspec": {
   "display_name": "Python 3",
   "language": "python",
   "name": "python3"
  },
  "language_info": {
   "codemirror_mode": {
    "name": "ipython",
    "version": 3
   },
   "file_extension": ".py",
   "mimetype": "text/x-python",
   "name": "python",
   "nbconvert_exporter": "python",
   "pygments_lexer": "ipython3",
   "version": "3.6.5"
  }
 },
 "nbformat": 4,
 "nbformat_minor": 2
}
