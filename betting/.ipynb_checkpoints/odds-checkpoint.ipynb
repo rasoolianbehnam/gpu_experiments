{
 "cells": [
  {
   "cell_type": "code",
   "execution_count": 1,
   "metadata": {},
   "outputs": [
    {
     "name": "stderr",
     "output_type": "stream",
     "text": [
      "/home/bzr0014/anaconda3/envs/tensorGpu/lib/python3.6/site-packages/h5py/__init__.py:36: FutureWarning: Conversion of the second argument of issubdtype from `float` to `np.floating` is deprecated. In future, it will be treated as `np.float64 == np.dtype(float).type`.\n",
      "  from ._conv import register_converters as _register_converters\n"
     ]
    },
    {
     "name": "stdout",
     "output_type": "stream",
     "text": [
      "Populating the interactive namespace from numpy and matplotlib\n"
     ]
    }
   ],
   "source": [
    "import numpy as np\n",
    "import os\n",
    "import tensorflow as tf\n",
    "%load_ext autoreload\n",
    "%autoreload 2\n",
    "%pylab inline"
   ]
  },
  {
   "cell_type": "code",
   "execution_count": 219,
   "metadata": {},
   "outputs": [],
   "source": [
    "filename = 'odds.csv'\n",
    "oddsFile = open(filename, 'r')\n",
    "oddsFile.readline()\n",
    "indexDict = {}\n",
    "odds = []\n",
    "probs = []\n",
    "accumOdds = []\n",
    "sum = 0\n",
    "for line in oddsFile:\n",
    "    index, country, odd, prob = line.split(',')\n",
    "    indexDict[int(index)] = country\n",
    "    odds.append(float(odd))\n",
    "    probs.append(float(prob))\n",
    "    accumOdds.append(sum)\n",
    "    sum += float(prob)\n",
    "accumOdds.append(sum)\n",
    "odds = np.array(odds)\n",
    "probs = np.array(probs)\n",
    "accumOdds = np.array(accumOdds)"
   ]
  },
  {
   "cell_type": "code",
   "execution_count": 355,
   "metadata": {},
   "outputs": [],
   "source": [
    "def findRandomWinnerIndex(accumOdds):\n",
    "    a = np.random.rand()\n",
    "    #print((accumOdds[1:] > a)*1 - (accumOdds[:32] > a)*1)\n",
    "    return np.argmax(accumOdds > a) - 1\n",
    "def findRandomWinnerArray(accumOdds):\n",
    "    additional = (accumOdds[0] + 1 - accumOdds[-1]) / 2\n",
    "    a = np.random.rand() * (1 + additional) - accumOdds[0]/2\n",
    "    out = np.exp(1 /(np.abs(accumOdds - a)+1e-2))\n",
    "    out = out / (np.sum(out)+1e-5) > .5\n",
    "    return out\n",
    "def createScenario(accumOdds, N):\n",
    "    additional = (accumOdds[0] + 1 - accumOdds[-1]) / 2\n",
    "    rands = np.random.rand(N) * (1 + additional) - accumOdds[0]/2\n",
    "    scenarios = np.zeros(N, dtype='uint32')\n",
    "    for i in range(N):\n",
    "        index = np.argmax(accumOdds > rands[i])-1\n",
    "        scenarios[i] = index\n",
    "    mardas = np.zeros((N, 32))\n",
    "    for i in range(N):\n",
    "        mardas[i, scenarios[i]] = 1    \n",
    "    return mardas"
   ]
  },
  {
   "cell_type": "code",
   "execution_count": 356,
   "metadata": {},
   "outputs": [
    {
     "name": "stdout",
     "output_type": "stream",
     "text": [
      "110.23145\n",
      "min win: -56.0\n",
      "max win: 1936.0\n",
      "stdev: 370.45730868873073\n"
     ]
    }
   ],
   "source": [
    "bets = np.ones(32) * 2\n",
    "sum = 0\n",
    "minWin = 10000000\n",
    "maxWin = -1\n",
    "numSims = 100000\n",
    "wins = np.zeros(numSims)\n",
    "for i in range(numSims):\n",
    "    winnerIndex = findRandomWinnerIndex(accumOdds)\n",
    "    win = bets[winnerIndex] * odds[winnerIndex] - np.sum(bets)\n",
    "    wins[i] = win\n",
    "print(wins.mean())\n",
    "print(\"min win:\", wins.min())\n",
    "print(\"max win:\", wins.max())\n",
    "print(\"stdev:\", wins.std())"
   ]
  },
  {
   "cell_type": "code",
   "execution_count": 357,
   "metadata": {},
   "outputs": [
    {
     "name": "stdout",
     "output_type": "stream",
     "text": [
      "100.15112\n",
      "min win: -32.0\n",
      "max win: 968.0\n",
      "stdev: 208.9782850985853\n"
     ]
    }
   ],
   "source": [
    "bets = np.ones(32) * 1\n",
    "minWin = 10000000\n",
    "maxWin = -1\n",
    "numSims = 100000\n",
    "wins = np.zeros(numSims)\n",
    "for i in range(numSims):\n",
    "    winnerArray = findRandomWinnerArray(accumOdds[:32])\n",
    "    win = np.sum(bets * odds * winnerArray - bets)\n",
    "    wins[i] = win\n",
    "print(wins.mean())\n",
    "print(\"min win:\", wins.min())\n",
    "print(\"max win:\", wins.max())\n",
    "print(\"stdev:\", wins.std())"
   ]
  },
  {
   "cell_type": "code",
   "execution_count": 381,
   "metadata": {},
   "outputs": [],
   "source": [
    "tf.reset_default_graph()\n",
    "bets_tf = tf.get_variable('bets', [1, 32])\n",
    "odds_tf = tf.placeholder(tf.float32, [1, 32])\n",
    "scenarios_tf = tf.placeholder(tf.float32, [None, 32])\n",
    "h1 = tf.nn.relu(bets_tf)\n",
    "win_tf = tf.reduce_sum(h1 * odds_tf * scenarios_tf - h1, axis=1)\n",
    "#mean, loss = tf.nn.moments(win_tf, axes=[0])\n",
    "#loss = -1 * loss\n",
    "loss = -1 * tf.reduce_mean(win_tf)"
   ]
  },
  {
   "cell_type": "code",
   "execution_count": 382,
   "metadata": {},
   "outputs": [],
   "source": [
    "optimizer = tf.train.AdamOptimizer(1e-1)\n",
    "train_step = optimizer.minimize(loss)\n",
    "N = 1000000\n",
    "scenarios = createScenario(accumOdds, N)"
   ]
  },
  {
   "cell_type": "code",
   "execution_count": 383,
   "metadata": {},
   "outputs": [],
   "source": [
    "feed_dict = {odds_tf:odds.reshape(1, 32), scenarios_tf:scenarios}\n",
    "num_epochs = 1000\n",
    "with tf.Session() as sess:\n",
    "    sess.run(tf.global_variables_initializer())\n",
    "    for i in range(num_epochs):\n",
    "        bets, myLoss = sess.run([bets_tf, loss], feed_dict=feed_dict)"
   ]
  },
  {
   "cell_type": "code",
   "execution_count": 384,
   "metadata": {},
   "outputs": [
    {
     "name": "stdout",
     "output_type": "stream",
     "text": [
      "[[-0.074312   -0.1428563   0.12177008  0.27342165 -0.41809624 -0.273431\n",
      "  -0.3287806  -0.29355907  0.29453713 -0.32576284 -0.33353072  0.32165253\n",
      "   0.02440864 -0.15701884 -0.4215435  -0.14428475  0.13153756 -0.15045229\n",
      "  -0.12765661 -0.27399236 -0.18520646  0.38449484  0.27895826  0.36168236\n",
      "  -0.26468277 -0.20046033 -0.32786357 -0.30000353 -0.253363    0.23021\n",
      "   0.29585588 -0.06696406]]\n",
      "-1.3714414\n"
     ]
    }
   ],
   "source": [
    "print(bets)\n",
    "print(myLoss)"
   ]
  },
  {
   "cell_type": "code",
   "execution_count": 385,
   "metadata": {},
   "outputs": [],
   "source": [
    "actualBets = np.where(bets > 0, bets, np.zeros(32))"
   ]
  },
  {
   "cell_type": "code",
   "execution_count": 386,
   "metadata": {},
   "outputs": [],
   "source": [
    "actualBets = actualBets / np.sum(actualBets) * 32\n",
    "actualBets = actualBets.reshape(-1)"
   ]
  },
  {
   "cell_type": "code",
   "execution_count": 387,
   "metadata": {},
   "outputs": [
    {
     "data": {
      "text/plain": [
       "array([0.        , 0.        , 1.43336444, 3.2184659 , 0.        ,\n",
       "       0.        , 0.        , 0.        , 3.46701776, 0.        ,\n",
       "       0.        , 3.78619514, 0.28731584, 0.        , 0.        ,\n",
       "       0.        , 1.54833806, 0.        , 0.        , 0.        ,\n",
       "       0.        , 4.5259165 , 3.2836378 , 4.25738908, 0.        ,\n",
       "       0.        , 0.        , 0.        , 0.        , 2.70981858,\n",
       "       3.48254089, 0.        ])"
      ]
     },
     "execution_count": 387,
     "metadata": {},
     "output_type": "execute_result"
    }
   ],
   "source": [
    "actualBets"
   ]
  },
  {
   "cell_type": "code",
   "execution_count": 388,
   "metadata": {},
   "outputs": [
    {
     "name": "stdout",
     "output_type": "stream",
     "text": [
      "     argentina: 0.00\n",
      "     australia: 0.00\n",
      "       belgium: 1.43\n",
      "        brazil: 3.22\n",
      "      colombia: 0.00\n",
      "    costa rica: 0.00\n",
      "       croatia: 0.00\n",
      "       denmark: 0.00\n",
      "         egypt: 3.47\n",
      "       england: 0.00\n",
      "        france: 0.00\n",
      "       germany: 3.79\n",
      "       iceland: 0.29\n",
      "          iran: 0.00\n",
      "         japan: 0.00\n",
      "         korea: 0.00\n",
      "        mexico: 1.55\n",
      "       morocco: 0.00\n",
      "       nigeria: 0.00\n",
      "        panama: 0.00\n",
      "          peru: 0.00\n",
      "        poland: 4.53\n",
      "      portugal: 3.28\n",
      "        russia: 4.26\n",
      "  saudi arabia: 0.00\n",
      "       senegal: 0.00\n",
      "        serbia: 0.00\n",
      "         spain: 0.00\n",
      "        sweden: 0.00\n",
      "   switzerland: 2.71\n",
      "       tunisia: 3.48\n",
      "       uruguay: 0.00\n"
     ]
    }
   ],
   "source": [
    "for i in range(len(actualBets)):\n",
    "    print(\"%14s: %4.2f\"%(indexDict[i+1], actualBets[i]))"
   ]
  },
  {
   "cell_type": "code",
   "execution_count": 380,
   "metadata": {},
   "outputs": [
    {
     "name": "stdout",
     "output_type": "stream",
     "text": [
      "average win: 149.73551030891846\n",
      "min win: -32.0\n",
      "max win: 2250.459780909729\n",
      "stdev: 444.48136990864015\n"
     ]
    }
   ],
   "source": [
    "bets = actualBets\n",
    "minWin = 10000000\n",
    "maxWin = -1\n",
    "numSims = N\n",
    "wins = np.zeros(numSims)\n",
    "for i in range(numSims):\n",
    "    winnerArray = findRandomWinnerArray(accumOdds[:32])\n",
    "    win = np.sum(bets * odds * winnerArray - bets)\n",
    "    wins[i] = win\n",
    "print(\"average win:\", wins.mean())\n",
    "print(\"min win:\", wins.min())\n",
    "print(\"max win:\", wins.max())\n",
    "print(\"stdev:\", wins.std())"
   ]
  },
  {
   "cell_type": "code",
   "execution_count": 371,
   "metadata": {},
   "outputs": [
    {
     "name": "stdout",
     "output_type": "stream",
     "text": [
      "[0.11024 0.01325 0.03844 0.14113 0.025   0.01045 0.0178  0.01178 0.01316\n",
      " 0.01918 0.105   0.11525 0.01302 0.01185 0.01971 0.00981 0.01622 0.00514\n",
      " 0.01337 0.00684 0.01467 0.01498 0.03254 0.01782 0.01133 0.0143  0.0164\n",
      " 0.09259 0.01797 0.014   0.00814 0.02862]\n"
     ]
    }
   ],
   "source": [
    "print(np.sum(scenarios, axis=0) / np.sum(scenarios))"
   ]
  },
  {
   "cell_type": "code",
   "execution_count": 372,
   "metadata": {},
   "outputs": [
    {
     "name": "stdout",
     "output_type": "stream",
     "text": [
      "[0.11072 0.01411 0.03702 0.14195 0.02462 0.01034 0.01894 0.01259 0.01313\n",
      " 0.01888 0.10527 0.11297 0.01285 0.01188 0.02017 0.00978 0.01707 0.00497\n",
      " 0.01296 0.00726 0.01471 0.01529 0.03226 0.01747 0.01092 0.01509 0.01682\n",
      " 0.09103 0.01865 0.01359 0.00842 0.02827]\n",
      "[0.109 0.014 0.038 0.142 0.025 0.01  0.018 0.012 0.013 0.019 0.105 0.114\n",
      " 0.013 0.012 0.02  0.01  0.017 0.005 0.013 0.007 0.015 0.015 0.033 0.017\n",
      " 0.011 0.015 0.016 0.093 0.018 0.014 0.008 0.03 ]\n"
     ]
    }
   ],
   "source": [
    "rands = np.random.rand(N)\n",
    "scenarios = np.zeros(N, dtype='uint32')\n",
    "for i in range(N):\n",
    "    index = np.argmax(accumOdds > rands[i])-1\n",
    "    scenarios[i] = index\n",
    "mardas = np.zeros((N, 32))\n",
    "for i in range(N):\n",
    "    mardas[i, scenarios[i]] = 1\n",
    "print(np.sum(mardas, axis=0) / np.sum(mardas))\n",
    "print(probs)"
   ]
  },
  {
   "cell_type": "code",
   "execution_count": null,
   "metadata": {},
   "outputs": [],
   "source": []
  }
 ],
 "metadata": {
  "kernelspec": {
   "display_name": "Python 3",
   "language": "python",
   "name": "python3"
  },
  "language_info": {
   "codemirror_mode": {
    "name": "ipython",
    "version": 3
   },
   "file_extension": ".py",
   "mimetype": "text/x-python",
   "name": "python",
   "nbconvert_exporter": "python",
   "pygments_lexer": "ipython3",
   "version": "3.6.5"
  }
 },
 "nbformat": 4,
 "nbformat_minor": 2
}
