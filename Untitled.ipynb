{
 "cells": [
  {
   "cell_type": "code",
   "execution_count": 1,
   "metadata": {
    "scrolled": false
   },
   "outputs": [
    {
     "name": "stderr",
     "output_type": "stream",
     "text": [
      "/home/bzr0014/anaconda3/envs/tensorGpu/lib/python3.6/site-packages/h5py/__init__.py:36: FutureWarning: Conversion of the second argument of issubdtype from `float` to `np.floating` is deprecated. In future, it will be treated as `np.float64 == np.dtype(float).type`.\n",
      "  from ._conv import register_converters as _register_converters\n"
     ]
    },
    {
     "name": "stdout",
     "output_type": "stream",
     "text": [
      "175650455593.369202 2412181.516659 \n",
      "\n",
      "1.673514 \n",
      "\n",
      "Populating the interactive namespace from numpy and matplotlib\n"
     ]
    },
    {
     "name": "stderr",
     "output_type": "stream",
     "text": [
      "/home/bzr0014/anaconda3/envs/tensorGpu/lib/python3.6/site-packages/IPython/core/magics/pylab.py:160: UserWarning: pylab import has clobbered these variables: ['pie', 'eye']\n",
      "`%matplotlib` prevents importing * from pylab and numpy\n",
      "  \"\\n`%matplotlib` prevents importing * from pylab and numpy\"\n"
     ]
    }
   ],
   "source": [
    "import numpy as np\n",
    "import tensorflow as tf\n",
    "import time\n",
    "from working_gpu import *\n",
    "from poisson_gpu import *\n",
    "import os\n",
    "%load_ext autoreload\n",
    "%autoreload 2\n",
    "%pylab inline\n",
    "pylab.rcParams['figure.figsize'] = (15, 9)"
   ]
  },
  {
   "cell_type": "code",
   "execution_count": 3,
   "metadata": {
    "scrolled": false
   },
   "outputs": [
    {
     "name": "stdout",
     "output_type": "stream",
     "text": [
      "175650455593.369202 2412181.516659 \n",
      "\n",
      "1.673514 \n",
      "\n",
      "method used is ndarray\n",
      "Starting to create kernels...\n",
      "1000 / 6859\n",
      "2000 / 6859\n",
      "4000 / 6859\n",
      "5000 / 6859\n",
      "Finished creating kernels.\n",
      "calculating matrix powers\n",
      "self_A_19_19_19_40_ndarray.npy exists\n",
      "self_B_19_19_19_40_ndarray.npy exists\n",
      "converting to torch...\n",
      "finished!!\n",
      "Time taken: 2.757511\n"
     ]
    }
   ],
   "source": [
    "V2, g2, pv2 = main()"
   ]
  },
  {
   "cell_type": "code",
   "execution_count": 2,
   "metadata": {
    "scrolled": false
   },
   "outputs": [
    {
     "name": "stdout",
     "output_type": "stream",
     "text": [
      "method used is ndarray\n",
      "Starting to create kernels...\n",
      "Finished creating kernels.\n",
      "calculating matrix powers\n",
      "0\n",
      "10\n",
      "20\n",
      "30\n",
      "finished!!\n"
     ]
    }
   ],
   "source": [
    "V2 = V2.reshape(-1)\n",
    "g2 = g2.reshape(-1)imax =8\n",
    "jmax =8\n",
    "kmax =8\n",
    "upper_lim = 3\n",
    "n1 = imax + upper_lim\n",
    "n2 = jmax + upper_lim\n",
    "n3 = kmax + upper_lim\n",
    "method = 'ndarray'\n",
    "w = 1.6735139054963901\n",
    "h = 1e-3\n",
    "pv = poisson_vectorized(n1, n2, n3, w=w, num_iterations=40, method=method\\\n",
    "                        , upper_lim=upper_lim)\n",
    "V1 = (np.random.rand(n1 * n2 * n3) * 30  + 1).astype('float32')\n",
    "g = (np.random.rand(n1 * n2 * n3) * 2e5  + 1e5).astype('float32')\n",
    "#for I in range(0, n1*n2*n3):\n",
    "#            k = I % n3\n",
    "#            s1 = (I - k) // n3\n",
    "#            j = s1 % n2\n",
    "#            i = (s1 - j) // n2\n",
    "#            #print(I, i, j, k)\n",
    "#            if (i*j*k==0 or k >= kmax - 1 or j >= jmax - 1 or i >= imax - 1):\n",
    "#                g[I] = 0\n",
    "#                V1[I] = 0\n",
    "\n",
    "V1_reshaped = V1.reshape(n1, n2, n3)\n",
    "g_reshaped = g.reshape(n1, n2, n3)\n"
   ]
  },
  {
   "cell_type": "code",
   "execution_count": 5,
   "metadata": {},
   "outputs": [
    {
     "name": "stdout",
     "output_type": "stream",
     "text": [
      "Starting poisson fast one loop\n",
      "Time taken: 0.014179\n",
      "Starting poisson fast no loop\n",
      "Time taken: 0.001850\n",
      "Starting poisson fast no loop\n",
      "Time taken: 0.001753\n",
      "Starting poisson brute flat\n",
      "Time taken: 0.232772\n",
      "Starting poisson brute main\n",
      "Time taken: 0.209602\n",
      "Starting poisson fast no loop\n",
      "Time taken: 0.003872\n",
      "brute flat vs fast one loop    relative error 2.583184e-07\n",
      "fast no loop vs fast one loop  relative error 1.4690955049472023e-07\n",
      "fast no lopp vs brute flat     relative error 2.3674703425192524e-07\n",
      "brute flat vs fast no loop     relative error 2.3674703425192524e-07\n",
      "brute flat vs brute main       relative error 0.0\n",
      "fast no loop OLD vs fast one loop relative error 1.467775409191192e-07\n",
      "improvement: 16.416950 times\n"
     ]
    }
   ],
   "source": [
    "print(\"Starting poisson fast one loop\")\n",
    "start = time.time()\n",
    "fast_one_loop = pv.poisson_fast_one_loop(V1*1., g*1.)\n",
    "time_taken1 = time.time() - start\n",
    "print(\"Time taken: %f\"%(time_taken1))\n",
    "fast_one_loop = fast_one_loop.reshape(n1*n2*n3)\n",
    "\n",
    "print(\"Starting poisson fast no loop\")\n",
    "start = time.time()\n",
    "fast_no_loop = pv.poisson_fast_no_loop(V1*1., g*1.)\n",
    "time_taken2 = time.time() - start\n",
    "print(\"Time taken: %f\"%(time_taken2))\n",
    "fast_no_loop = fast_no_loop.reshape(n1*n2*n3)\n",
    "\n",
    "print(\"Starting poisson fast no loop\")\n",
    "start = time.time()\n",
    "fast_no_loop = pv.poisson_fast_no_loop(V1*1., g*1.)\n",
    "time_taken2 = time.time() - start\n",
    "\n",
    "print(\"Time taken: %f\"%(time_taken2))\n",
    "fast_no_loop = fast_no_loop.reshape(n1*n2*n3)\n",
    "print(\"Starting poisson brute flat\")\n",
    "start = time.time()\n",
    "brute_flat = pv.poisson_brute_main_flat(V1*1., g*1.)\n",
    "time_taken3 = time.time() - start\n",
    "print(\"Time taken: %f\"%(time_taken3))\n",
    "\n",
    "print(\"Starting poisson brute main\")\n",
    "start = time.time()\n",
    "brute_main = pv.poisson_brute_main(V1.reshape(n1, n2, n3), g.reshape(n1, n2, n3))\n",
    "time_taken4 = time.time() - start\n",
    "print(\"Time taken: %f\"%(time_taken4))\n",
    "brute_main = brute_main.reshape(n1*n2*n3)\n",
    "\n",
    "print(\"Starting poisson fast no loop\")\n",
    "start = time.time()\n",
    "fast_no_loop_old = pv.poisson_fast_no_loop_old(V1*1., g*1.)\n",
    "time_taken5 = time.time() - start\n",
    "print(\"Time taken: %f\"%(time_taken5))\n",
    "\n",
    "stat_diff(brute_flat, fast_one_loop, \"brute flat vs fast one loop\")\n",
    "stat_diff(fast_no_loop, fast_one_loop, \"fast no loop vs fast one loop\")\n",
    "stat_diff(fast_no_loop, brute_flat, \"fast no lopp vs brute flat\")\n",
    "stat_diff(brute_flat, fast_no_loop, \"brute flat vs fast no loop\")\n",
    "stat_diff(brute_flat, brute_main, \"brute flat vs brute main\")\n",
    "stat_diff(fast_no_loop_old, fast_one_loop, \"fast no loop OLD vs fast one loop\")\n",
    "#print(\"improvement: %f times\"%(time_taken1 / time_taken2))\n",
    "print(\"improvement: %f times\"%(time_taken3 / time_taken1))"
   ]
  },
  {
   "cell_type": "code",
   "execution_count": 19,
   "metadata": {},
   "outputs": [
    {
     "name": "stdout",
     "output_type": "stream",
     "text": [
      "175650455593.369202 2412181.516659 \n",
      "\n",
      "1.673514 \n",
      "\n",
      "Starting poisson fast one loop\n"
     ]
    },
    {
     "ename": "IndexError",
     "evalue": "index 19 is out of range for dimension 0 (of size 19)",
     "output_type": "error",
     "traceback": [
      "\u001b[0;31m---------------------------------------------------------------------------\u001b[0m",
      "\u001b[0;31mIndexError\u001b[0m                                Traceback (most recent call last)",
      "\u001b[0;32m<ipython-input-19-01a8219e2dba>\u001b[0m in \u001b[0;36m<module>\u001b[0;34m()\u001b[0m\n\u001b[1;32m      1\u001b[0m \u001b[0mprint\u001b[0m\u001b[0;34m(\u001b[0m\u001b[0;34m\"Starting poisson fast one loop\"\u001b[0m\u001b[0;34m)\u001b[0m\u001b[0;34m\u001b[0m\u001b[0m\n\u001b[1;32m      2\u001b[0m \u001b[0mstart\u001b[0m \u001b[0;34m=\u001b[0m \u001b[0mtime\u001b[0m\u001b[0;34m.\u001b[0m\u001b[0mtime\u001b[0m\u001b[0;34m(\u001b[0m\u001b[0;34m)\u001b[0m\u001b[0;34m\u001b[0m\u001b[0m\n\u001b[0;32m----> 3\u001b[0;31m \u001b[0mfast_one_loop\u001b[0m \u001b[0;34m=\u001b[0m \u001b[0mpv2\u001b[0m\u001b[0;34m.\u001b[0m\u001b[0mpoisson_fast_one_loop\u001b[0m\u001b[0;34m(\u001b[0m\u001b[0mV2\u001b[0m\u001b[0;34m*\u001b[0m\u001b[0;36m1.\u001b[0m\u001b[0;34m,\u001b[0m \u001b[0mg2\u001b[0m\u001b[0;34m*\u001b[0m\u001b[0;36m1.\u001b[0m\u001b[0;34m)\u001b[0m\u001b[0;34m\u001b[0m\u001b[0m\n\u001b[0m\u001b[1;32m      4\u001b[0m \u001b[0mtime_taken1\u001b[0m \u001b[0;34m=\u001b[0m \u001b[0mtime\u001b[0m\u001b[0;34m.\u001b[0m\u001b[0mtime\u001b[0m\u001b[0;34m(\u001b[0m\u001b[0;34m)\u001b[0m \u001b[0;34m-\u001b[0m \u001b[0mstart\u001b[0m\u001b[0;34m\u001b[0m\u001b[0m\n\u001b[1;32m      5\u001b[0m \u001b[0mprint\u001b[0m\u001b[0;34m(\u001b[0m\u001b[0;34m\"Time taken: %f\"\u001b[0m\u001b[0;34m%\u001b[0m\u001b[0;34m(\u001b[0m\u001b[0mtime_taken1\u001b[0m\u001b[0;34m)\u001b[0m\u001b[0;34m)\u001b[0m\u001b[0;34m\u001b[0m\u001b[0m\n",
      "\u001b[0;32m~/gpu_experiments/working_gpu.py\u001b[0m in \u001b[0;36mpoisson_fast_one_loop\u001b[0;34m(self, V, g)\u001b[0m\n\u001b[1;32m    208\u001b[0m                       + g[I-self.n3*self.n2])\n\u001b[1;32m    209\u001b[0m             \u001b[0;32melse\u001b[0m\u001b[0;34m:\u001b[0m\u001b[0;34m\u001b[0m\u001b[0m\n\u001b[0;32m--> 210\u001b[0;31m                 \u001b[0mg\u001b[0m\u001b[0;34m[\u001b[0m\u001b[0mI\u001b[0m\u001b[0;34m]\u001b[0m \u001b[0;34m=\u001b[0m \u001b[0;36m0\u001b[0m\u001b[0;34m\u001b[0m\u001b[0m\n\u001b[0m\u001b[1;32m    211\u001b[0m         \u001b[0;32mfor\u001b[0m \u001b[0mkk\u001b[0m \u001b[0;32min\u001b[0m \u001b[0mrange\u001b[0m\u001b[0;34m(\u001b[0m\u001b[0mself\u001b[0m\u001b[0;34m.\u001b[0m\u001b[0mnum_iterations\u001b[0m\u001b[0;34m)\u001b[0m\u001b[0;34m:\u001b[0m\u001b[0;34m\u001b[0m\u001b[0m\n\u001b[1;32m    212\u001b[0m             \u001b[0mout\u001b[0m \u001b[0;34m=\u001b[0m \u001b[0mself\u001b[0m\u001b[0;34m.\u001b[0m\u001b[0mkernels\u001b[0m\u001b[0;34m[\u001b[0m\u001b[0;34m'poisson'\u001b[0m\u001b[0;34m]\u001b[0m\u001b[0;34m.\u001b[0m\u001b[0mdot\u001b[0m\u001b[0;34m(\u001b[0m\u001b[0mout\u001b[0m\u001b[0;34m)\u001b[0m \u001b[0;34m-\u001b[0m \u001b[0mg\u001b[0m\u001b[0;34m\u001b[0m\u001b[0m\n",
      "\u001b[0;31mIndexError\u001b[0m: index 19 is out of range for dimension 0 (of size 19)"
     ]
    }
   ],
   "source": [
    "print(\"Starting poisson fast one loop\")\n",
    "start = time.time()\n",
    "fast_one_loop = pv2.poisson_fast_one_loop(V2*1., g2*1.)\n",
    "time_taken1 = time.time() - start\n",
    "print(\"Time taken: %f\"%(time_taken1))\n",
    "\n",
    "print(\"Starting poisson fast no loop\")\n",
    "start = time.time()\n",
    "fast_no_loop = pv2.poisson_fast_no_loop(V2*1., g2*1.)\n",
    "time_taken2 = time.time() - start\n",
    "print(\"Time taken: %f\"%(time_taken2))\n",
    "\n",
    "print(\"Starting poisson brute flat\")\n",
    "start = time.time()\n",
    "brute_flat = pv2.poisson_brute_main_flat(V2*1., g2*1.)\n",
    "time_taken3 = time.time() - start\n",
    "print(\"Time taken: %f\"%(time_taken3))\n",
    "\n",
    "print(\"Starting poisson brute main\")\n",
    "start = time.time()\n",
    "brute_main = pv2.poisson_brute_main(V2.reshape(pv2.n1, pv2.n2, pv2.n3), g2.reshape(pv2.n1, pv2.n2, pv2.n3))\n",
    "time_taken4 = time.time() - start\n",
    "print(\"Time taken: %f\"%(time_taken4))\n",
    "brute_main = brute_main.reshape(pv2.n1*pv2.n2*pv2.n3)\n",
    "\n",
    "\n",
    "stat_diff(brute_flat, fast_one_loop, \"brute flat vs fast one loop\")\n",
    "stat_diff(fast_no_loop, fast_one_loop, \"fast no loop vs fast one loop\")\n",
    "stat_diff(fast_no_loop, brute_flat, \"fast no lopp vs brute flat\")\n",
    "stat_diff(brute_flat, fast_no_loop, \"brute flat vs fast no loop\")\n",
    "stat_diff(brute_flat, brute_main, \"brute flat vs brute main\")\n",
    "#print(\"improvement: %f times\"%(time_taken1 / time_taken2))\n",
    "print(\"improvement: %f times\"%(time_taken3 / time_taken1))"
   ]
  },
  {
   "cell_type": "code",
   "execution_count": 9,
   "metadata": {},
   "outputs": [
    {
     "name": "stdout",
     "output_type": "stream",
     "text": [
      "cuda available\n"
     ]
    }
   ],
   "source": [
    "a = torch.ones(3, 4).double()\n",
    "c = 2.5\n",
    "if torch.cuda.is_available():\n",
    "    print('cuda available')\n",
    "    a = a.cuda()"
   ]
  },
  {
   "cell_type": "code",
   "execution_count": 11,
   "metadata": {},
   "outputs": [
    {
     "name": "stdout",
     "output_type": "stream",
     "text": [
      "torch.cuda.DoubleTensor\n",
      "torch.cuda.DoubleTensor\n"
     ]
    }
   ],
   "source": [
    "print(a.type())\n",
    "a = c * a\n",
    "print(a.type())"
   ]
  },
  {
   "cell_type": "code",
   "execution_count": 11,
   "metadata": {},
   "outputs": [
    {
     "ename": "TypeError",
     "evalue": "'module' object is not callable",
     "output_type": "error",
     "traceback": [
      "\u001b[0;31m---------------------------------------------------------------------------\u001b[0m",
      "\u001b[0;31mTypeError\u001b[0m                                 Traceback (most recent call last)",
      "\u001b[0;32m<ipython-input-11-e7659b71b56e>\u001b[0m in \u001b[0;36m<module>\u001b[0;34m()\u001b[0m\n\u001b[0;32m----> 1\u001b[0;31m \u001b[0ma\u001b[0m \u001b[0;34m=\u001b[0m \u001b[0mtorch\u001b[0m\u001b[0;34m.\u001b[0m\u001b[0mtensor\u001b[0m\u001b[0;34m(\u001b[0m\u001b[0;34m[\u001b[0m\u001b[0;36m1\u001b[0m\u001b[0;34m]\u001b[0m\u001b[0;34m)\u001b[0m\u001b[0;34m\u001b[0m\u001b[0m\n\u001b[0m",
      "\u001b[0;31mTypeError\u001b[0m: 'module' object is not callable"
     ]
    }
   ],
   "source": [
    "a = torch.tensor([1])"
   ]
  },
  {
   "cell_type": "code",
   "execution_count": null,
   "metadata": {},
   "outputs": [],
   "source": []
  }
 ],
 "metadata": {
  "kernelspec": {
   "display_name": "Python 3",
   "language": "python",
   "name": "python3"
  },
  "language_info": {
   "codemirror_mode": {
    "name": "ipython",
    "version": 3
   },
   "file_extension": ".py",
   "mimetype": "text/x-python",
   "name": "python",
   "nbconvert_exporter": "python",
   "pygments_lexer": "ipython3",
   "version": "3.6.5"
  }
 },
 "nbformat": 4,
 "nbformat_minor": 2
}
