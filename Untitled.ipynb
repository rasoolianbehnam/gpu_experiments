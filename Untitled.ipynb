{
 "cells": [
  {
   "cell_type": "code",
   "execution_count": 1,
   "metadata": {
    "scrolled": false
   },
   "outputs": [
    {
     "name": "stderr",
     "output_type": "stream",
     "text": [
      "/home/bzr0014/anaconda3/envs/tensorCpu/lib/python3.6/site-packages/h5py/__init__.py:36: FutureWarning: Conversion of the second argument of issubdtype from `float` to `np.floating` is deprecated. In future, it will be treated as `np.float64 == np.dtype(float).type`.\n",
      "  from ._conv import register_converters as _register_converters\n"
     ]
    },
    {
     "name": "stdout",
     "output_type": "stream",
     "text": [
      "Populating the interactive namespace from numpy and matplotlib\n"
     ]
    },
    {
     "name": "stderr",
     "output_type": "stream",
     "text": [
      "/home/bzr0014/anaconda3/envs/tensorCpu/lib/python3.6/site-packages/IPython/core/magics/pylab.py:160: UserWarning: pylab import has clobbered these variables: ['eye']\n",
      "`%matplotlib` prevents importing * from pylab and numpy\n",
      "  \"\\n`%matplotlib` prevents importing * from pylab and numpy\"\n"
     ]
    }
   ],
   "source": [
    "import numpy as np\n",
    "import tensorflow as tf\n",
    "import time\n",
    "from working_gpu import *\n",
    "import os\n",
    "%load_ext autoreload\n",
    "%autoreload 2\n",
    "%pylab inline\n",
    "pylab.rcParams['figure.figsize'] = (15, 9)"
   ]
  },
  {
   "cell_type": "code",
   "execution_count": 2,
   "metadata": {
    "scrolled": false
   },
   "outputs": [
    {
     "name": "stdout",
     "output_type": "stream",
     "text": [
      "method used is ndarray\n",
      "Starting to create kernels...\n",
      "Finished creating kernels.\n",
      "calculating matrix powers\n",
      "0\n",
      "1\n",
      "2\n",
      "3\n",
      "4\n",
      "5\n",
      "6\n",
      "7\n",
      "8\n",
      "9\n",
      "10\n",
      "11\n",
      "12\n",
      "13\n",
      "14\n",
      "15\n",
      "16\n",
      "17\n",
      "18\n",
      "19\n",
      "20\n",
      "21\n",
      "22\n",
      "23\n",
      "24\n",
      "25\n",
      "26\n",
      "27\n",
      "28\n",
      "29\n",
      "30\n",
      "31\n",
      "32\n",
      "33\n",
      "34\n",
      "35\n",
      "36\n",
      "37\n",
      "38\n",
      "finished!!\n"
     ]
    }
   ],
   "source": [
    "imax =8\n",
    "jmax =8\n",
    "kmax =8\n",
    "upper_lim = 3\n",
    "n1 = imax + upper_lim\n",
    "n2 = jmax + upper_lim\n",
    "n3 = kmax + upper_lim\n",
    "method = 'ndarray'\n",
    "w = 1.843\n",
    "pv = poisson_vectorized(n1, n2, n3, w=w, num_iterations=40, method=method\\\n",
    "                        , upper_lim=upper_lim)\n",
    "V1 = (np.random.rand(n1 * n2 * n3) * 30  + 1).astype('float32')\n",
    "g = (np.random.rand(n1 * n2 * n3) * 2e5  + 1e5).astype('float32')\n",
    "for I in range(0, n1*n2*n3):\n",
    "            k = I % n3\n",
    "            s1 = (I - k) // n3\n",
    "            j = s1 % n2\n",
    "            i = (s1 - j) // n2\n",
    "            #print(I, i, j, k)\n",
    "            if (i*j*k==0 or k >= kmax - 1 or j >= jmax - 1 or i >= imax - 1):\n",
    "                g[I] = 0\n",
    "                V1[I] = 0\n",
    "\n",
    "V1_reshaped = V1.reshape(n1, n2, n3)\n",
    "g_reshaped = g.reshape(n1, n2, n3)\n"
   ]
  },
  {
   "cell_type": "code",
   "execution_count": 4,
   "metadata": {},
   "outputs": [
    {
     "name": "stdout",
     "output_type": "stream",
     "text": [
      "Starting poisson fast one loop\n",
      "Time taken: 0.005748\n",
      "Starting poisson fast no loop\n",
      "Time taken: 0.005735\n",
      "Starting poisson brute flat\n",
      "Time taken: 0.283701\n",
      "Starting poisson brute main\n",
      "Time taken: 0.206257\n",
      "brute flat vs fast one loop    relative error 1.3171846e-06\n",
      "fast no loop vs fast one loop  relative error 7.504381154361651e-07\n",
      "fast no lopp vs brute flat     relative error 1.1392828830602345e-06\n",
      "brute flat vs fast no loop     relative error 1.1392828830602345e-06\n",
      "brute flat vs brute main       relative error 0.0\n",
      "improvement: 49.360269 times\n"
     ]
    }
   ],
   "source": [
    "print(\"Starting poisson fast one loop\")\n",
    "start = time.time()\n",
    "fast_one_loop = pv.poisson_fast_one_loop(V1*1., g*1.)\n",
    "time_taken1 = time.time() - start\n",
    "print(\"Time taken: %f\"%(time_taken1))\n",
    "fast_one_loop = fast_one_loop.reshape(n1*n2*n3)\n",
    "\n",
    "print(\"Starting poisson fast no loop\")\n",
    "start = time.time()\n",
    "fast_no_loop = pv.poisson_fast_no_loop(V1*1., g*1.)\n",
    "time_taken2 = time.time() - start\n",
    "print(\"Time taken: %f\"%(time_taken2))\n",
    "fast_no_loop = fast_no_loop.reshape(n1*n2*n3)\n",
    "\n",
    "print(\"Starting poisson brute flat\")\n",
    "start = time.time()\n",
    "brute_flat = pv.poisson_brute_main_flat(V1*1., g*1.)\n",
    "time_taken3 = time.time() - start\n",
    "print(\"Time taken: %f\"%(time_taken3))\n",
    "\n",
    "print(\"Starting poisson brute main\")\n",
    "start = time.time()\n",
    "brute_main = pv.poisson_brute_main(V1.reshape(n1, n2, n3), g.reshape(n1, n2, n3))\n",
    "time_taken4 = time.time() - start\n",
    "print(\"Time taken: %f\"%(time_taken4))\n",
    "brute_main = brute_main.reshape(n1*n2*n3)\n",
    "\n",
    "\n",
    "stat_diff(brute_flat, fast_one_loop, n1, n2, n3, \"brute flat vs fast one loop\")\n",
    "stat_diff(fast_no_loop, fast_one_loop, n1, n2, n3, \"fast no loop vs fast one loop\")\n",
    "stat_diff(fast_no_loop, brute_flat, n1, n2, n3, \"fast no lopp vs brute flat\")\n",
    "stat_diff(brute_flat, fast_no_loop, n1, n2, n3, \"brute flat vs fast no loop\")\n",
    "stat_diff(brute_flat, brute_main, n1, n2, n3, \"brute flat vs brute main\")\n",
    "#print(\"improvement: %f times\"%(time_taken1 / time_taken2))\n",
    "print(\"improvement: %f times\"%(time_taken3 / time_taken1))"
   ]
  },
  {
   "cell_type": "code",
   "execution_count": 63,
   "metadata": {},
   "outputs": [
    {
     "name": "stdout",
     "output_type": "stream",
     "text": [
      "Starting poisson fast\n",
      "Time taken: 0.000311\n",
      "Starting poisson brute 2\n",
      "Time taken: 0.000186\n",
      "improvement: 0.598619 times\n",
      "relative error 0.0\n"
     ]
    }
   ],
   "source": [
    "print(\"Starting poisson fast\")\n",
    "start = time.time()\n",
    "a = -pv.apply_kernel(V1 * 1., 'x_gradient') / pv.h\n",
    "time_taken1 = time.time() - start\n",
    "print(\"Time taken: %f\"%(time_taken1))\n",
    "\n",
    "print(\"Starting poisson brute 2\")\n",
    "start = time.time()\n",
    "b = pv.electric_field_elements(V1_reshaped * 1.)\n",
    "time_taken2 = time.time() - start\n",
    "print(\"Time taken: %f\"%(time_taken2))\n",
    "print(\"improvement: %f times\"%(time_taken2 / time_taken1)) \n",
    "b = b.reshape(n1*n2*n3)\n",
    "\n",
    "stat_diff(a, b, n1, n2, n3)"
   ]
  },
  {
   "cell_type": "code",
   "execution_count": 64,
   "metadata": {},
   "outputs": [
    {
     "name": "stdout",
     "output_type": "stream",
     "text": [
      "Starting poisson fast\n",
      "Time taken: 0.000494\n",
      "Starting poisson fast\n",
      "Time taken: 0.000078\n",
      "improvement: 6.291793 times\n",
      "relative error 0.0\n"
     ]
    }
   ],
   "source": [
    "print(\"Starting poisson fast\")\n",
    "a = V1_reshaped * 1.\n",
    "start = time.time()\n",
    "pv.average_x(V1_reshaped*1., a)\n",
    "time_taken1 = time.time() - start\n",
    "print(\"Time taken: %f\"%(time_taken1))\n",
    "\n",
    "print(\"Starting poisson fast\")\n",
    "b = V1_reshaped * 1.\n",
    "start = time.time()\n",
    "pv.average_x_fast(V1_reshaped*1., b)\n",
    "time_taken2 = time.time() - start\n",
    "print(\"Time taken: %f\"%(time_taken2))\n",
    "\n",
    "print(\"improvement: %f times\"%(time_taken1 / time_taken2))\n",
    "stat_diff(a, b, n1, n2, n3)"
   ]
  },
  {
   "cell_type": "code",
   "execution_count": 4,
   "metadata": {},
   "outputs": [
    {
     "name": "stdout",
     "output_type": "stream",
     "text": [
      "method used is ndarray\n",
      "Starting to create kernels...\n",
      "1000 / 6859\n",
      "2000 / 6859\n",
      "4000 / 6859\n",
      "Finished creating kernels.\n",
      "calculating matrix powers\n",
      "A file exitst.\n",
      "B file exitst.\n",
      "A and B has been found!!\n",
      "finished!!\n"
     ]
    }
   ],
   "source": [
    "imax = 16\n",
    "jmax = 16\n",
    "kmax = 16\n",
    "upper_lim = 3\n",
    "n1 = imax + upper_lim\n",
    "n2 = jmax + upper_lim\n",
    "n3 = kmax + upper_lim\n",
    "w = 1.843\n",
    "pv = poisson_vectorized(n1, n2, n3, w=w, num_iterations=40, method='ndarray'\\\n",
    "                        , upper_lim=upper_lim)\n",
    "V1 = (np.random.rand(n1 * n2 * n3)).astype('float32')\n",
    "g = (np.random.rand(n1 * n2 * n3) * 2e-5  + -1e-5).astype('float32')\n",
    "for I in range(0, n1*n2*n3):\n",
    "            k = I % n3\n",
    "            s1 = (I - k) // n3\n",
    "            j = s1 % n2\n",
    "            i = (s1 - j) // n2\n",
    "            #print(I, i, j, k)\n",
    "            if (i*j*k==0 or k >= kmax - 1 or j >= jmax - 1 or i >= imax - 1):\n",
    "                g[I] = 0\n",
    "                V1[I] = 0\n",
    "\n",
    "V1_reshaped = V1.reshape(n1, n2, n3)\n",
    "g_reshaped = g.reshape(n1, n2, n3)\n"
   ]
  },
  {
   "cell_type": "code",
   "execution_count": 6,
   "metadata": {},
   "outputs": [
    {
     "name": "stdout",
     "output_type": "stream",
     "text": [
      "Starting poisson fast\n",
      "Time taken: 0.051707\n",
      "Starting poisson fast gpu\n",
      "Time taken: 7.469487\n",
      "Starting poisson brute 1\n",
      "Time taken: 1.738536\n",
      "relative error 1.0\n",
      "relative error 0.0002715765\n",
      "improvement: 0.029741 times\n"
     ]
    }
   ],
   "source": [
    "print(\"Starting poisson fast\")\n",
    "start = time.time()\n",
    "a = pv.poisson_fast(V1*1., g)\n",
    "time_taken1 = time.time() - start\n",
    "print(\"Time taken: %f\"%(time_taken1))\n",
    "a = a.reshape(n1*n2*n3)\n",
    "\n",
    "#dev_A = convert_sparse_matrix_to_sparse_tensor(pv.kernels['poisson'])\n",
    "dev_A = tf.convert_to_tensor(pv.kernels['poisson'], np.float32)\n",
    "dev_V = tf.convert_to_tensor(V1.reshape(-1, 1), np.float32)\n",
    "dev_g = tf.convert_to_tensor(g.reshape(-1, 1), np.float32)\n",
    "sess = tf.Session()\n",
    "\n",
    "print(\"Starting poisson fast gpu\")\n",
    "start = time.time()\n",
    "sess, aaa = pv.poisson_fast_gpu(dev_V, dev_g, dev_A, sess)\n",
    "print(\"Time taken: %f\"%(time.time() - start))\n",
    "with sess:\n",
    "    mardas = aaa.eval().reshape(-1)\n",
    "print(\"Starting poisson brute 1\")\n",
    "start = time.time()\n",
    "bb = pv.poisson_brute4(V1*1., g*1.)\n",
    "time_taken3 = time.time() - start\n",
    "print(\"Time taken: %f\"%(time_taken3))\n",
    "bb = bb.reshape(n1*n2*n3)\n",
    "\n",
    "stat_diff(a, mardas, n1, n2, n3)\n",
    "stat_diff(a, bb, n1, n2, n3)\n",
    "print(\"improvement: %f times\"%(time_taken1 / time_taken3))"
   ]
  },
  {
   "cell_type": "code",
   "execution_count": null,
   "metadata": {
    "scrolled": false
   },
   "outputs": [
    {
     "name": "stdout",
     "output_type": "stream",
     "text": [
      "Starting poisson fast\n",
      "Time taken: 4.526530\n",
      "Starting poisson fast gpu\n",
      "Time taken: 20.447853\n"
     ]
    }
   ],
   "source": [
    "print(\"Starting poisson fast\")\n",
    "start = time.time()\n",
    "a = pv.poisson_fast(V1*1., g)\n",
    "time_taken1 = time.time() - start\n",
    "print(\"Time taken: %f\"%(time_taken1))\n",
    "a = a.reshape(n1*n2*n3)\n",
    "\n",
    "dev_A = convert_sparse_matrix_to_sparse_tensor(pv.kernels['poisson'])\n",
    "#dev_A = tf.convert_to_tensor(pv.kernels['poisson'], np.float32)\n",
    "dev_V = tf.convert_to_tensor(V1.reshape(-1, 1), np.float32)\n",
    "dev_g = tf.convert_to_tensor(g.reshape(-1, 1), np.float32)\n",
    "sess = tf.Session()\n",
    "\n",
    "print(\"Starting poisson fast gpu\")\n",
    "start = time.time()\n",
    "sess, aaa = pv.poisson_fast_gpu(dev_V, dev_g, dev_A, sess)\n",
    "print(\"Time taken: %f\"%(time.time() - start))\n",
    "with sess:\n",
    "    mardas = aaa.eval().reshape(-1)"
   ]
  },
  {
   "cell_type": "code",
   "execution_count": 188,
   "metadata": {},
   "outputs": [],
   "source": [
    "def mat_pow(a, k):\n",
    "    return np.linalg.matrix_power(a, k)\n",
    "def mat_pow2(a, k):\n",
    "    sig, u = np.linalg.eig(a)\n",
    "    sig = np.diag(sig)\n",
    "    sig_k = np.linalg.matrix_power(sig, k)\n",
    "    #print(u.T.dot(u))\n",
    "    return u.dot(sig_k).dot(u.T)"
   ]
  },
  {
   "cell_type": "code",
   "execution_count": 190,
   "metadata": {},
   "outputs": [
    {
     "name": "stdout",
     "output_type": "stream",
     "text": [
      "[[-10.03882892+0.j  -1.55942136+0.j  -3.41884583+0.j  11.90332377+0.j\n",
      "    5.11003202+0.j]\n",
      " [-10.34848716+0.j  -1.60683049+0.j  -3.53399340+0.j  12.28103795+0.j\n",
      "    5.26102550+0.j]\n",
      " [ -7.99825204+0.j  -1.24323110+0.j  -2.73089496+0.j   9.48697669+0.j\n",
      "    4.07351057+0.j]\n",
      " [ -7.87160633+0.j  -1.23230150+0.j  -2.70923046+0.j   9.35730669+0.j\n",
      "    4.00802661+0.j]\n",
      " [ -9.86179579+0.j  -1.53024572+0.j  -3.36264994+0.j  11.69548423+0.j\n",
      "    5.01858528+0.j]]\n"
     ]
    }
   ],
   "source": [
    "a = np.random.rand(5, 5)\n",
    "#a = a.dot(a.T)\n",
    "k = 5\n",
    "b = mat_pow2(a, k)\n",
    "c = mat_pow(a, k)\n",
    "print(c-b)"
   ]
  },
  {
   "cell_type": "code",
   "execution_count": 157,
   "metadata": {},
   "outputs": [
    {
     "data": {
      "text/plain": [
       "array([[ -9.09494702e-13,  -1.13686838e-12,   0.00000000e+00,\n",
       "          4.54747351e-13,  -1.36424205e-12],\n",
       "       [ -1.13686838e-12,  -1.59161573e-12,  -2.27373675e-13,\n",
       "          0.00000000e+00,  -1.81898940e-12],\n",
       "       [ -4.54747351e-13,  -4.54747351e-13,   3.41060513e-13,\n",
       "          6.82121026e-13,   4.54747351e-13],\n",
       "       [  0.00000000e+00,  -4.54747351e-13,   4.54747351e-13,\n",
       "          9.09494702e-13,   9.09494702e-13],\n",
       "       [ -1.81898940e-12,  -1.36424205e-12,   4.54747351e-13,\n",
       "          4.54747351e-13,  -1.81898940e-12]])"
      ]
     },
     "execution_count": 157,
     "metadata": {},
     "output_type": "execute_result"
    }
   ],
   "source": [
    "n = 5\n",
    "eye = np.eye(n, n)\n",
    "a = np.random.rand(n, n)\n",
    "a = a.T.dot(a)\n",
    "sig, u = np.linalg.eig(a)\n",
    "sig = np.diag(sig)\n",
    "\n",
    "a5 = mat_pow(a, 5)\n",
    "aa5 = u.dot(sig**5).dot(u.T)\n",
    "a5 - aa5"
   ]
  },
  {
   "cell_type": "code",
   "execution_count": 105,
   "metadata": {},
   "outputs": [],
   "source": [
    "a = np.random.rand(5, 5)\n",
    "b = None"
   ]
  },
  {
   "cell_type": "code",
   "execution_count": 107,
   "metadata": {},
   "outputs": [
    {
     "name": "stdout",
     "output_type": "stream",
     "text": [
      "0\n",
      "1\n",
      "2\n",
      "4\n",
      "5\n",
      "10\n",
      "[[ 4.05957172  5.99337937  0.46819945  1.57440593  2.77009444]\n",
      " [ 2.68510885  2.89452445  4.09167854  2.70338787  1.28877903]\n",
      " [ 2.94432018  5.77101927  5.4726491   1.60362596  2.37100789]\n",
      " [ 3.81417715  5.40893082  2.40197909  1.46998272  5.88032951]\n",
      " [ 5.8092642   2.21520962  5.81964626  4.2701999   5.70284333]]\n",
      "[[  0.00000000e+00  -9.09494702e-13   0.00000000e+00   0.00000000e+00\n",
      "    0.00000000e+00]\n",
      " [  4.54747351e-13  -9.09494702e-13   4.54747351e-13   4.54747351e-13\n",
      "    4.54747351e-13]\n",
      " [  0.00000000e+00  -1.81898940e-12   0.00000000e+00   4.54747351e-13\n",
      "    9.09494702e-13]\n",
      " [  9.09494702e-13   0.00000000e+00   0.00000000e+00   0.00000000e+00\n",
      "    0.00000000e+00]\n",
      " [  1.81898940e-12   0.00000000e+00   1.81898940e-12   9.09494702e-13\n",
      "    9.09494702e-13]]\n"
     ]
    }
   ],
   "source": [
    "a1, b1 = mat_pow(a, 10, b)\n",
    "a2 = np.linalg.matrix_power(a, 10)\n",
    "print(b1)\n",
    "print(a2-a1)"
   ]
  },
  {
   "cell_type": "code",
   "execution_count": 3,
   "metadata": {},
   "outputs": [
    {
     "ename": "AttributeError",
     "evalue": "'function' object has no attribute 'A'",
     "output_type": "error",
     "traceback": [
      "\u001b[0;31m---------------------------------------------------------------------------\u001b[0m",
      "\u001b[0;31mAttributeError\u001b[0m                            Traceback (most recent call last)",
      "\u001b[0;32m<ipython-input-3-a95f9328a80d>\u001b[0m in \u001b[0;36m<module>\u001b[0;34m()\u001b[0m\n\u001b[0;32m----> 1\u001b[0;31m \u001b[0mlen\u001b[0m\u001b[0;34m(\u001b[0m\u001b[0mnp\u001b[0m\u001b[0;34m.\u001b[0m\u001b[0mwhere\u001b[0m\u001b[0;34m(\u001b[0m\u001b[0mpv\u001b[0m\u001b[0;34m.\u001b[0m\u001b[0mA\u001b[0m \u001b[0;34m!=\u001b[0m \u001b[0;36m0\u001b[0m\u001b[0;34m)\u001b[0m\u001b[0;34m[\u001b[0m\u001b[0;36m0\u001b[0m\u001b[0;34m]\u001b[0m\u001b[0;34m)\u001b[0m \u001b[0;34m/\u001b[0m \u001b[0;34m(\u001b[0m\u001b[0mn1\u001b[0m\u001b[0;34m*\u001b[0m\u001b[0mn2\u001b[0m\u001b[0;34m*\u001b[0m\u001b[0mn3\u001b[0m\u001b[0;34m)\u001b[0m\u001b[0;34m**\u001b[0m\u001b[0;36m2\u001b[0m\u001b[0;34m\u001b[0m\u001b[0m\n\u001b[0m",
      "\u001b[0;31mAttributeError\u001b[0m: 'function' object has no attribute 'A'"
     ]
    }
   ],
   "source": [
    "len(np.where(pv.A != 0)[0]) / (n1*n2*n3)**2"
   ]
  },
  {
   "cell_type": "code",
   "execution_count": 27,
   "metadata": {},
   "outputs": [
    {
     "name": "stdout",
     "output_type": "stream",
     "text": [
      "0.004170095617877063\n",
      "0.004170095617877063\n"
     ]
    }
   ],
   "source": [
    "print(pv.kernels['poisson'].getnnz() / (1. * (n1 * n2 *n3)**2))\n",
    "\n",
    "print(len(pv.kernels['poisson'].nonzero()[0]) / (n1*n2*n3)**2)"
   ]
  },
  {
   "cell_type": "code",
   "execution_count": 5,
   "metadata": {},
   "outputs": [
    {
     "ename": "TypeError",
     "evalue": "f() missing 1 required positional argument: 'y'",
     "output_type": "error",
     "traceback": [
      "\u001b[0;31m---------------------------------------------------------------------------\u001b[0m",
      "\u001b[0;31mRemoteTraceback\u001b[0m                           Traceback (most recent call last)",
      "\u001b[0;31mRemoteTraceback\u001b[0m: \n\"\"\"\nTraceback (most recent call last):\n  File \"/home/bzr0014/anaconda3/lib/python3.6/multiprocessing/pool.py\", line 119, in worker\n    result = (True, func(*args, **kwds))\n  File \"/home/bzr0014/anaconda3/lib/python3.6/multiprocessing/pool.py\", line 44, in mapstar\n    return list(map(*args))\nTypeError: f() missing 1 required positional argument: 'y'\n\"\"\"",
      "\nThe above exception was the direct cause of the following exception:\n",
      "\u001b[0;31mTypeError\u001b[0m                                 Traceback (most recent call last)",
      "\u001b[0;32m<ipython-input-5-66b077302531>\u001b[0m in \u001b[0;36m<module>\u001b[0;34m()\u001b[0m\n\u001b[1;32m      6\u001b[0m \u001b[0my\u001b[0m \u001b[0;34m=\u001b[0m \u001b[0mnp\u001b[0m\u001b[0;34m.\u001b[0m\u001b[0mrandom\u001b[0m\u001b[0;34m.\u001b[0m\u001b[0mrand\u001b[0m\u001b[0;34m(\u001b[0m\u001b[0;36m5\u001b[0m\u001b[0;34m,\u001b[0m \u001b[0;36m1\u001b[0m\u001b[0;34m)\u001b[0m\u001b[0;34m\u001b[0m\u001b[0m\n\u001b[1;32m      7\u001b[0m \u001b[0mp\u001b[0m \u001b[0;34m=\u001b[0m \u001b[0mPool\u001b[0m\u001b[0;34m(\u001b[0m\u001b[0;36m5\u001b[0m\u001b[0;34m)\u001b[0m\u001b[0;34m\u001b[0m\u001b[0m\n\u001b[0;32m----> 8\u001b[0;31m \u001b[0ma\u001b[0m \u001b[0;34m=\u001b[0m \u001b[0mp\u001b[0m\u001b[0;34m.\u001b[0m\u001b[0mmap\u001b[0m\u001b[0;34m(\u001b[0m\u001b[0mf\u001b[0m\u001b[0;34m,\u001b[0m \u001b[0;34m(\u001b[0m\u001b[0mx\u001b[0m\u001b[0;34m,\u001b[0m \u001b[0my\u001b[0m\u001b[0;34m)\u001b[0m\u001b[0;34m)\u001b[0m\u001b[0;34m\u001b[0m\u001b[0m\n\u001b[0m\u001b[1;32m      9\u001b[0m \u001b[0mb\u001b[0m \u001b[0;34m=\u001b[0m \u001b[0mf\u001b[0m\u001b[0;34m(\u001b[0m\u001b[0mx\u001b[0m\u001b[0;34m,\u001b[0m \u001b[0my\u001b[0m\u001b[0;34m)\u001b[0m\u001b[0;34m\u001b[0m\u001b[0m\n\u001b[1;32m     10\u001b[0m \u001b[0mrel_error\u001b[0m\u001b[0;34m(\u001b[0m\u001b[0ma\u001b[0m\u001b[0;34m,\u001b[0m \u001b[0mb\u001b[0m\u001b[0;34m)\u001b[0m\u001b[0;34m\u001b[0m\u001b[0m\n",
      "\u001b[0;32m~/anaconda3/lib/python3.6/multiprocessing/pool.py\u001b[0m in \u001b[0;36mmap\u001b[0;34m(self, func, iterable, chunksize)\u001b[0m\n\u001b[1;32m    264\u001b[0m         \u001b[0;32min\u001b[0m \u001b[0ma\u001b[0m \u001b[0mlist\u001b[0m \u001b[0mthat\u001b[0m \u001b[0;32mis\u001b[0m \u001b[0mreturned\u001b[0m\u001b[0;34m.\u001b[0m\u001b[0;34m\u001b[0m\u001b[0m\n\u001b[1;32m    265\u001b[0m         '''\n\u001b[0;32m--> 266\u001b[0;31m         \u001b[0;32mreturn\u001b[0m \u001b[0mself\u001b[0m\u001b[0;34m.\u001b[0m\u001b[0m_map_async\u001b[0m\u001b[0;34m(\u001b[0m\u001b[0mfunc\u001b[0m\u001b[0;34m,\u001b[0m \u001b[0miterable\u001b[0m\u001b[0;34m,\u001b[0m \u001b[0mmapstar\u001b[0m\u001b[0;34m,\u001b[0m \u001b[0mchunksize\u001b[0m\u001b[0;34m)\u001b[0m\u001b[0;34m.\u001b[0m\u001b[0mget\u001b[0m\u001b[0;34m(\u001b[0m\u001b[0;34m)\u001b[0m\u001b[0;34m\u001b[0m\u001b[0m\n\u001b[0m\u001b[1;32m    267\u001b[0m \u001b[0;34m\u001b[0m\u001b[0m\n\u001b[1;32m    268\u001b[0m     \u001b[0;32mdef\u001b[0m \u001b[0mstarmap\u001b[0m\u001b[0;34m(\u001b[0m\u001b[0mself\u001b[0m\u001b[0;34m,\u001b[0m \u001b[0mfunc\u001b[0m\u001b[0;34m,\u001b[0m \u001b[0miterable\u001b[0m\u001b[0;34m,\u001b[0m \u001b[0mchunksize\u001b[0m\u001b[0;34m=\u001b[0m\u001b[0;32mNone\u001b[0m\u001b[0;34m)\u001b[0m\u001b[0;34m:\u001b[0m\u001b[0;34m\u001b[0m\u001b[0m\n",
      "\u001b[0;32m~/anaconda3/lib/python3.6/multiprocessing/pool.py\u001b[0m in \u001b[0;36mget\u001b[0;34m(self, timeout)\u001b[0m\n\u001b[1;32m    642\u001b[0m             \u001b[0;32mreturn\u001b[0m \u001b[0mself\u001b[0m\u001b[0;34m.\u001b[0m\u001b[0m_value\u001b[0m\u001b[0;34m\u001b[0m\u001b[0m\n\u001b[1;32m    643\u001b[0m         \u001b[0;32melse\u001b[0m\u001b[0;34m:\u001b[0m\u001b[0;34m\u001b[0m\u001b[0m\n\u001b[0;32m--> 644\u001b[0;31m             \u001b[0;32mraise\u001b[0m \u001b[0mself\u001b[0m\u001b[0;34m.\u001b[0m\u001b[0m_value\u001b[0m\u001b[0;34m\u001b[0m\u001b[0m\n\u001b[0m\u001b[1;32m    645\u001b[0m \u001b[0;34m\u001b[0m\u001b[0m\n\u001b[1;32m    646\u001b[0m     \u001b[0;32mdef\u001b[0m \u001b[0m_set\u001b[0m\u001b[0;34m(\u001b[0m\u001b[0mself\u001b[0m\u001b[0;34m,\u001b[0m \u001b[0mi\u001b[0m\u001b[0;34m,\u001b[0m \u001b[0mobj\u001b[0m\u001b[0;34m)\u001b[0m\u001b[0;34m:\u001b[0m\u001b[0;34m\u001b[0m\u001b[0m\n",
      "\u001b[0;31mTypeError\u001b[0m: f() missing 1 required positional argument: 'y'"
     ]
    },
    {
     "name": "stderr",
     "output_type": "stream",
     "text": [
      "Process ForkPoolWorker-16:\n",
      "Process ForkPoolWorker-20:\n",
      "Process ForkPoolWorker-17:\n",
      "Process ForkPoolWorker-18:\n",
      "Process ForkPoolWorker-19:\n",
      "Traceback (most recent call last):\n",
      "Traceback (most recent call last):\n",
      "Traceback (most recent call last):\n",
      "  File \"/home/bzr0014/anaconda3/lib/python3.6/multiprocessing/process.py\", line 258, in _bootstrap\n",
      "    self.run()\n",
      "Traceback (most recent call last):\n",
      "  File \"/home/bzr0014/anaconda3/lib/python3.6/multiprocessing/process.py\", line 258, in _bootstrap\n",
      "    self.run()\n",
      "  File \"/home/bzr0014/anaconda3/lib/python3.6/multiprocessing/process.py\", line 93, in run\n",
      "    self._target(*self._args, **self._kwargs)\n",
      "  File \"/home/bzr0014/anaconda3/lib/python3.6/multiprocessing/pool.py\", line 108, in worker\n",
      "    task = get()\n",
      "  File \"/home/bzr0014/anaconda3/lib/python3.6/multiprocessing/process.py\", line 93, in run\n",
      "    self._target(*self._args, **self._kwargs)\n",
      "  File \"/home/bzr0014/anaconda3/lib/python3.6/multiprocessing/process.py\", line 258, in _bootstrap\n",
      "    self.run()\n",
      "  File \"/home/bzr0014/anaconda3/lib/python3.6/multiprocessing/process.py\", line 258, in _bootstrap\n",
      "    self.run()\n",
      "  File \"/home/bzr0014/anaconda3/lib/python3.6/multiprocessing/queues.py\", line 334, in get\n",
      "    with self._rlock:\n",
      "  File \"/home/bzr0014/anaconda3/lib/python3.6/multiprocessing/synchronize.py\", line 96, in __enter__\n",
      "    return self._semlock.__enter__()\n",
      "KeyboardInterrupt\n",
      "  File \"/home/bzr0014/anaconda3/lib/python3.6/multiprocessing/pool.py\", line 108, in worker\n",
      "    task = get()\n",
      "  File \"/home/bzr0014/anaconda3/lib/python3.6/multiprocessing/process.py\", line 93, in run\n",
      "    self._target(*self._args, **self._kwargs)\n",
      "  File \"/home/bzr0014/anaconda3/lib/python3.6/multiprocessing/process.py\", line 93, in run\n",
      "    self._target(*self._args, **self._kwargs)\n",
      "  File \"/home/bzr0014/anaconda3/lib/python3.6/multiprocessing/synchronize.py\", line 96, in __enter__\n",
      "    return self._semlock.__enter__()\n",
      "  File \"/home/bzr0014/anaconda3/lib/python3.6/multiprocessing/pool.py\", line 108, in worker\n",
      "    task = get()\n",
      "  File \"/home/bzr0014/anaconda3/lib/python3.6/multiprocessing/queues.py\", line 334, in get\n",
      "    with self._rlock:\n",
      "  File \"/home/bzr0014/anaconda3/lib/python3.6/multiprocessing/queues.py\", line 334, in get\n",
      "    with self._rlock:\n",
      "KeyboardInterrupt\n",
      "  File \"/home/bzr0014/anaconda3/lib/python3.6/multiprocessing/synchronize.py\", line 96, in __enter__\n",
      "    return self._semlock.__enter__()\n",
      "Traceback (most recent call last):\n",
      "KeyboardInterrupt\n",
      "  File \"/home/bzr0014/anaconda3/lib/python3.6/multiprocessing/process.py\", line 258, in _bootstrap\n",
      "    self.run()\n",
      "  File \"/home/bzr0014/anaconda3/lib/python3.6/multiprocessing/pool.py\", line 108, in worker\n",
      "    task = get()\n",
      "  File \"/home/bzr0014/anaconda3/lib/python3.6/multiprocessing/queues.py\", line 334, in get\n",
      "    with self._rlock:\n",
      "  File \"/home/bzr0014/anaconda3/lib/python3.6/multiprocessing/process.py\", line 93, in run\n",
      "    self._target(*self._args, **self._kwargs)\n",
      "  File \"/home/bzr0014/anaconda3/lib/python3.6/multiprocessing/pool.py\", line 108, in worker\n",
      "    task = get()\n",
      "  File \"/home/bzr0014/anaconda3/lib/python3.6/multiprocessing/synchronize.py\", line 96, in __enter__\n",
      "    return self._semlock.__enter__()\n",
      "  File \"/home/bzr0014/anaconda3/lib/python3.6/multiprocessing/queues.py\", line 335, in get\n",
      "    res = self._reader.recv_bytes()\n",
      "KeyboardInterrupt\n",
      "  File \"/home/bzr0014/anaconda3/lib/python3.6/multiprocessing/connection.py\", line 216, in recv_bytes\n",
      "    buf = self._recv_bytes(maxlength)\n",
      "KeyboardInterrupt\n",
      "  File \"/home/bzr0014/anaconda3/lib/python3.6/multiprocessing/connection.py\", line 407, in _recv_bytes\n",
      "    buf = self._recv(4)\n",
      "  File \"/home/bzr0014/anaconda3/lib/python3.6/multiprocessing/connection.py\", line 379, in _recv\n",
      "    chunk = read(handle, remaining)\n"
     ]
    }
   ],
   "source": [
    "from multiprocessing import Pool\n",
    "def f(xy):\n",
    "    x, y \n",
    "    return x.dot(x, y)\n",
    "\n",
    "x = np.random.rand(5, 5)\n",
    "y = np.random.rand(5, 1)\n",
    "p = Pool(5)\n",
    "a = p.map(f, x, y)\n",
    "b = f(x, y)\n",
    "rel_error(a, b)"
   ]
  },
  {
   "cell_type": "code",
   "execution_count": null,
   "metadata": {},
   "outputs": [],
   "source": []
  }
 ],
 "metadata": {
  "kernelspec": {
   "display_name": "Python 3",
   "language": "python",
   "name": "python3"
  },
  "language_info": {
   "codemirror_mode": {
    "name": "ipython",
    "version": 3
   },
   "file_extension": ".py",
   "mimetype": "text/x-python",
   "name": "python",
   "nbconvert_exporter": "python",
   "pygments_lexer": "ipython3",
   "version": "3.6.5"
  }
 },
 "nbformat": 4,
 "nbformat_minor": 2
}
