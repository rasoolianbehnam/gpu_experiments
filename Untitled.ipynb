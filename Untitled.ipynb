{
 "cells": [
  {
   "cell_type": "code",
   "execution_count": 1,
   "metadata": {
    "scrolled": false
   },
   "outputs": [
    {
     "name": "stderr",
     "output_type": "stream",
     "text": [
      "/home/bzr0014/anaconda3/envs/tensorGpu/lib/python3.6/site-packages/h5py/__init__.py:36: FutureWarning: Conversion of the second argument of issubdtype from `float` to `np.floating` is deprecated. In future, it will be treated as `np.float64 == np.dtype(float).type`.\n",
      "  from ._conv import register_converters as _register_converters\n"
     ]
    },
    {
     "name": "stdout",
     "output_type": "stream",
     "text": [
      "175650455593.369202 2412181.516659 \n",
      "\n",
      "1.673514 \n",
      "\n",
      "Populating the interactive namespace from numpy and matplotlib\n"
     ]
    },
    {
     "name": "stderr",
     "output_type": "stream",
     "text": [
      "/home/bzr0014/anaconda3/envs/tensorGpu/lib/python3.6/site-packages/IPython/core/magics/pylab.py:160: UserWarning: pylab import has clobbered these variables: ['pie', 'eye']\n",
      "`%matplotlib` prevents importing * from pylab and numpy\n",
      "  \"\\n`%matplotlib` prevents importing * from pylab and numpy\"\n"
     ]
    }
   ],
   "source": [
    "import numpy as np\n",
    "import tensorflow as tf\n",
    "import time\n",
    "from working_gpu import *\n",
    "from poisson import *\n",
    "import os\n",
    "%load_ext autoreload\n",
    "%autoreload 2\n",
    "%pylab inline\n",
    "pylab.rcParams['figure.figsize'] = (15, 9)"
   ]
  },
  {
   "cell_type": "code",
   "execution_count": 4,
   "metadata": {
    "scrolled": false
   },
   "outputs": [
    {
     "name": "stdout",
     "output_type": "stream",
     "text": [
      "method used is ndarray\n",
      "Starting to create kernels...\n",
      "Finished creating kernels.\n",
      "calculating matrix powers\n",
      "0\n",
      "10\n",
      "20\n",
      "30\n",
      "finished!!\n"
     ]
    }
   ],
   "source": [
    "imax =8\n",
    "jmax =8\n",
    "kmax =8\n",
    "upper_lim = 3\n",
    "n1 = imax + upper_lim\n",
    "n2 = jmax + upper_lim\n",
    "n3 = kmax + upper_lim\n",
    "method = 'ndarray'\n",
    "w = 1.6735139054963901\n",
    "h = 1e-3\n",
    "pv = poisson_vectorized(n1, n2, n3, w=w, num_iterations=40, method=method\\\n",
    "                        , upper_lim=upper_lim)\n",
    "V1 = (np.random.rand(n1 * n2 * n3) * 30  + 1).astype('float32')\n",
    "g = (np.random.rand(n1 * n2 * n3) * 2e5  + 1e5).astype('float32')\n",
    "#for I in range(0, n1*n2*n3):\n",
    "#            k = I % n3\n",
    "#            s1 = (I - k) // n3\n",
    "#            j = s1 % n2\n",
    "#            i = (s1 - j) // n2\n",
    "#            #print(I, i, j, k)\n",
    "#            if (i*j*k==0 or k >= kmax - 1 or j >= jmax - 1 or i >= imax - 1):\n",
    "#                g[I] = 0\n",
    "#                V1[I] = 0\n",
    "\n",
    "V1_reshaped = V1.reshape(n1, n2, n3)\n",
    "g_reshaped = g.reshape(n1, n2, n3)\n"
   ]
  },
  {
   "cell_type": "code",
   "execution_count": 7,
   "metadata": {},
   "outputs": [
    {
     "name": "stdout",
     "output_type": "stream",
     "text": [
      "Starting poisson fast one loop\n",
      "Time taken: 0.009422\n",
      "Starting poisson fast no loop\n",
      "Time taken: 0.006092\n",
      "Starting poisson brute flat\n",
      "Time taken: 0.257197\n",
      "Starting poisson brute main\n",
      "Time taken: 0.214379\n",
      "brute flat vs fast one loop    relative error 2.5271032e-07\n",
      "fast no loop vs fast one loop  relative error 1.9339795573879563e-07\n",
      "fast no lopp vs brute flat     relative error 2.4381894564359443e-07\n",
      "brute flat vs fast no loop     relative error 2.4381894564359443e-07\n",
      "brute flat vs brute main       relative error 0.0\n",
      "improvement: 27.296635 times\n"
     ]
    }
   ],
   "source": [
    "print(\"Starting poisson fast one loop\")\n",
    "start = time.time()\n",
    "fast_one_loop = pv.poisson_fast_one_loop(V1*1., g*1.)\n",
    "time_taken1 = time.time() - start\n",
    "print(\"Time taken: %f\"%(time_taken1))\n",
    "fast_one_loop = fast_one_loop.reshape(n1*n2*n3)\n",
    "\n",
    "print(\"Starting poisson fast no loop\")\n",
    "start = time.time()\n",
    "fast_no_loop = pv.poisson_fast_no_loop(V1*1., g*1.)\n",
    "time_taken2 = time.time() - start\n",
    "print(\"Time taken: %f\"%(time_taken2))\n",
    "fast_no_loop = fast_no_loop.reshape(n1*n2*n3)\n",
    "\n",
    "print(\"Starting poisson brute flat\")\n",
    "start = time.time()\n",
    "brute_flat = pv.poisson_brute_main_flat(V1*1., g*1.)\n",
    "time_taken3 = time.time() - start\n",
    "print(\"Time taken: %f\"%(time_taken3))\n",
    "\n",
    "print(\"Starting poisson brute main\")\n",
    "start = time.time()\n",
    "brute_main = pv.poisson_brute_main(V1.reshape(n1, n2, n3), g.reshape(n1, n2, n3))\n",
    "time_taken4 = time.time() - start\n",
    "print(\"Time taken: %f\"%(time_taken4))\n",
    "brute_main = brute_main.reshape(n1*n2*n3)\n",
    "\n",
    "\n",
    "stat_diff(brute_flat, fast_one_loop, \"brute flat vs fast one loop\")\n",
    "stat_diff(fast_no_loop, fast_one_loop, \"fast no loop vs fast one loop\")\n",
    "stat_diff(fast_no_loop, brute_flat, \"fast no lopp vs brute flat\")\n",
    "stat_diff(brute_flat, fast_no_loop, \"brute flat vs fast no loop\")\n",
    "stat_diff(brute_flat, brute_main, \"brute flat vs brute main\")\n",
    "#print(\"improvement: %f times\"%(time_taken1 / time_taken2))\n",
    "print(\"improvement: %f times\"%(time_taken3 / time_taken1))"
   ]
  },
  {
   "cell_type": "code",
   "execution_count": 15,
   "metadata": {
    "scrolled": false
   },
   "outputs": [
    {
     "name": "stdout",
     "output_type": "stream",
     "text": [
      "method used is ndarray\n",
      "Starting to create kernels...\n",
      "1000 / 6859\n",
      "2000 / 6859\n",
      "4000 / 6859\n",
      "5000 / 6859\n",
      "Finished creating kernels.\n",
      "calculating matrix powers\n",
      "0\n",
      "10\n",
      "20\n",
      "30\n",
      "finished!!\n",
      "si before loop: 438411088841670656.000000\n",
      "ne[5, 6, 7] = 1.086294e+14\n",
      "\n",
      "ni[5, 6, 7] = 1.086294e+14\n",
      "\n",
      "Starting poisson\n",
      "19 19 19 (6859,)\n",
      "fast no loop vs brute here     relative error 0.0\n",
      "brute pv loop vs brute here    relative error 0.0\n",
      "Time taken: 4.016184\n",
      "V[5, 6, 7] = 0.000000\n",
      "\n",
      "1 \n",
      "\n",
      "Starting poisson\n",
      "19 19 19 (6859,)\n",
      "fast no loop vs brute here     relative error 0.0007248988948935981\n",
      "brute pv loop vs brute here    relative error 0.0\n",
      "Time taken: 4.037307\n",
      "V[5, 6, 7] = 0.064800\n",
      "\n",
      "2 \n",
      "\n",
      "Starting poisson\n",
      "19 19 19 (6859,)\n",
      "fast no loop vs brute here     relative error 0.00019131687095930316\n",
      "brute pv loop vs brute here    relative error 0.0\n",
      "Time taken: 4.174486\n",
      "V[5, 6, 7] = 0.140912\n",
      "\n",
      "3 \n",
      "\n"
     ]
    }
   ],
   "source": [
    "V2, g2, pv2 = main()\n",
    "V2 = V2.reshape(-1)\n",
    "g2 = g2.reshape(-1)"
   ]
  },
  {
   "cell_type": "code",
   "execution_count": 17,
   "metadata": {},
   "outputs": [
    {
     "name": "stdout",
     "output_type": "stream",
     "text": [
      "Starting poisson fast one loop\n",
      "Time taken: 0.288240\n",
      "Starting poisson fast no loop\n",
      "Time taken: 0.045384\n",
      "Starting poisson brute flat\n",
      "Time taken: 2.100485\n",
      "Starting poisson brute main\n",
      "Time taken: 2.055060\n",
      "brute flat vs fast one loop    relative error 0.0006908838\n",
      "fast no loop vs fast one loop  relative error 0.00011498824298476373\n",
      "fast no lopp vs brute flat     relative error 0.0006489756401489458\n",
      "brute flat vs fast no loop     relative error 0.0006489756401489458\n",
      "brute flat vs brute main       relative error 0.0\n",
      "improvement: 7.287266 times\n"
     ]
    }
   ],
   "source": [
    "print(\"Starting poisson fast one loop\")\n",
    "start = time.time()\n",
    "fast_one_loop = pv2.poisson_fast_one_loop(V2*1., g2*1.)\n",
    "time_taken1 = time.time() - start\n",
    "print(\"Time taken: %f\"%(time_taken1))\n",
    "\n",
    "print(\"Starting poisson fast no loop\")\n",
    "start = time.time()\n",
    "fast_no_loop = pv2.poisson_fast_no_loop(V2*1., g2*1.)\n",
    "time_taken2 = time.time() - start\n",
    "print(\"Time taken: %f\"%(time_taken2))\n",
    "\n",
    "print(\"Starting poisson brute flat\")\n",
    "start = time.time()\n",
    "brute_flat = pv2.poisson_brute_main_flat(V2*1., g2*1.)\n",
    "time_taken3 = time.time() - start\n",
    "print(\"Time taken: %f\"%(time_taken3))\n",
    "\n",
    "print(\"Starting poisson brute main\")\n",
    "start = time.time()\n",
    "brute_main = pv2.poisson_brute_main(V2.reshape(pv2.n1, pv2.n2, pv2.n3), g2.reshape(pv2.n1, pv2.n2, pv2.n3))\n",
    "time_taken4 = time.time() - start\n",
    "print(\"Time taken: %f\"%(time_taken4))\n",
    "brute_main = brute_main.reshape(pv2.n1*pv2.n2*pv2.n3)\n",
    "\n",
    "\n",
    "stat_diff(brute_flat, fast_one_loop, \"brute flat vs fast one loop\")\n",
    "stat_diff(fast_no_loop, fast_one_loop, \"fast no loop vs fast one loop\")\n",
    "stat_diff(fast_no_loop, brute_flat, \"fast no lopp vs brute flat\")\n",
    "stat_diff(brute_flat, fast_no_loop, \"brute flat vs fast no loop\")\n",
    "stat_diff(brute_flat, brute_main, \"brute flat vs brute main\")\n",
    "#print(\"improvement: %f times\"%(time_taken1 / time_taken2))\n",
    "print(\"improvement: %f times\"%(time_taken3 / time_taken1))"
   ]
  },
  {
   "cell_type": "code",
   "execution_count": null,
   "metadata": {},
   "outputs": [],
   "source": []
  }
 ],
 "metadata": {
  "kernelspec": {
   "display_name": "Python 3",
   "language": "python",
   "name": "python3"
  },
  "language_info": {
   "codemirror_mode": {
    "name": "ipython",
    "version": 3
   },
   "file_extension": ".py",
   "mimetype": "text/x-python",
   "name": "python",
   "nbconvert_exporter": "python",
   "pygments_lexer": "ipython3",
   "version": "3.6.5"
  }
 },
 "nbformat": 4,
 "nbformat_minor": 2
}
