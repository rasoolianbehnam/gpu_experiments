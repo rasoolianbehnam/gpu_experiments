{
 "cells": [
  {
   "cell_type": "code",
   "execution_count": 1,
   "metadata": {},
   "outputs": [
    {
     "name": "stderr",
     "output_type": "stream",
     "text": [
      "/home/bzr0014/anaconda3/envs/tensorGpu/lib/python3.6/site-packages/h5py/__init__.py:36: FutureWarning: Conversion of the second argument of issubdtype from `float` to `np.floating` is deprecated. In future, it will be treated as `np.float64 == np.dtype(float).type`.\n",
      "  from ._conv import register_converters as _register_converters\n"
     ]
    }
   ],
   "source": [
    "import tensorflow as tf\n",
    "import numpy as np"
   ]
  },
  {
   "cell_type": "code",
   "execution_count": 87,
   "metadata": {},
   "outputs": [],
   "source": [
    "def slice_add(c, a, axes, N):\n",
    "    print(len(axes))\n",
    "    if len(axes) == 1:\n",
    "        n = N[0]\n",
    "        xs = axes[0]\n",
    "        print(n)\n",
    "        mask = tf.ones_like(c)\n",
    "        padding = tf.constant([[xs[0], n-xs[1]]])\n",
    "        c_pad = tf.pad(c, padding, 'CONSTANT')\n",
    "        print(c_pad)\n",
    "        print(c_pad)\n",
    "        mask = tf.cast(tf.pad(mask, padding, 'CONSTANT'), tf.bool)\n",
    "        return tf.where(mask, c_pad, a)    \n",
    "    if len(axes) == 2:\n",
    "        n, m = N\n",
    "        xs = axes[0]\n",
    "        ys = axes[1]\n",
    "        print(n, m)\n",
    "        mask = tf.ones_like(c)\n",
    "        padding = tf.constant([[xs[0], n-xs[1]], [ys[0], m-ys[1]]])\n",
    "        c_pad = tf.pad(c, padding, 'CONSTANT')\n",
    "        print(c_pad)\n",
    "        mask = tf.cast(tf.pad(mask, padding, 'CONSTANT'), tf.bool)\n",
    "        return tf.where(mask, c_pad, a)\n",
    "    if len(axes) == 3:\n",
    "        n, m, s = N\n",
    "        xs = axes[0]\n",
    "        ys = axes[1]\n",
    "        zs = axes[2]\n",
    "        print(n, m, s)\n",
    "        mask = tf.ones_like(c)\n",
    "        padding = tf.constant([[xs[0], n-xs[1]], [ys[0], m-ys[1]], [zs[0], s-zs[1]]])\n",
    "        print(padding)\n",
    "        print(c)\n",
    "        c_pad = tf.pad(c, padding, 'CONSTANT')\n",
    "        print(c_pad)\n",
    "        mask = tf.cast(tf.pad(mask, padding, 'CONSTANT'), tf.bool)\n",
    "        return tf.where(mask, c_pad, a)    "
   ]
  },
  {
   "cell_type": "code",
   "execution_count": 89,
   "metadata": {},
   "outputs": [
    {
     "name": "stdout",
     "output_type": "stream",
     "text": [
      "[[17, 18], [0, 17], [0, 16]]\n",
      "3\n",
      "19 19 19\n",
      "Tensor(\"Const_1:0\", shape=(3, 2), dtype=int32)\n",
      "Tensor(\"strided_slice:0\", shape=(1, 17, 16), dtype=float64)\n",
      "Tensor(\"Pad:0\", shape=(19, 19, 19), dtype=float64)\n"
     ]
    }
   ],
   "source": [
    "tf.reset_default_graph()\n",
    "imax = jmax = kmax = 16\n",
    "n1 = n2 = n3 = imax+3\n",
    "nnn = [n1, n2, n3]\n",
    "ne_or = np.random.rand(n1, n2, n3)\n",
    "\n",
    "ne = tf.constant(ne_or)\n",
    "indices = [[imax+1, imax+2], [0, jmax+1],  [0, kmax]]\n",
    "print(indices)\n",
    "ne_temp = ne[1:2, 0:jmax+1, 0:kmax]\n",
    "ne = slice_add(ne_temp, ne, indices, nnn)\n"
   ]
  },
  {
   "cell_type": "code",
   "execution_count": null,
   "metadata": {},
   "outputs": [],
   "source": [
    "N = 8000\n",
    "a = tf.placeholder(tf.float32, [N, N])\n",
    "b = tf.placeholder(tf.float32, [N, N])\n",
    "out = tf.mat_mul(a, b)\n",
    "aa = np.random.rand(N, N)\n",
    "bb = np.random.rand(N, N)\n",
    "with tf.Session() as sess:\n",
    "    sess.run(out, feed_dict={a:aa, b:bb}"
   ]
  }
 ],
 "metadata": {
  "kernelspec": {
   "display_name": "Python 3",
   "language": "python",
   "name": "python3"
  },
  "language_info": {
   "codemirror_mode": {
    "name": "ipython",
    "version": 3
   },
   "file_extension": ".py",
   "mimetype": "text/x-python",
   "name": "python",
   "nbconvert_exporter": "python",
   "pygments_lexer": "ipython3",
   "version": "3.6.5"
  }
 },
 "nbformat": 4,
 "nbformat_minor": 2
}
